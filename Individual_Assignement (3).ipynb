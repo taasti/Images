{
  "nbformat": 4,
  "nbformat_minor": 0,
  "metadata": {
    "colab": {
      "name": "Individual Assignement.ipynb",
      "version": "0.3.2",
      "provenance": [],
      "collapsed_sections": []
    },
    "kernelspec": {
      "name": "python3",
      "display_name": "Python 3"
    }
  },
  "cells": [
    {
      "metadata": {
        "id": "oi6I2WwxuJru",
        "colab_type": "text"
      },
      "cell_type": "markdown",
      "source": [
        "**In this notebook I want to construct a neural architecture to develop classifiers for the authors of short phrases by Edgar Allan Poe (EAP), Mary Shelley (MWS), and HP Lovecraft (HPL)**\n",
        "\n",
        "For this I will use different models....\n",
        "\n",
        "\n",
        "\n",
        "\n",
        "---\n",
        "\n",
        "\n",
        "\n",
        "for csv look at data \n",
        "\n",
        "det er det som den skal spytte ud \n",
        "\n",
        "eksperiementer med forskellige modeller \n",
        "\n",
        "random forrest \n",
        "neural network ... simple og complex\n",
        "\n",
        "se hvad der gør bedst \n",
        "\n",
        "\n",
        "\n",
        "---\n",
        "\n",
        "\n"
      ]
    },
    {
      "metadata": {
        "id": "BbAPPYugOCXS",
        "colab_type": "text"
      },
      "cell_type": "markdown",
      "source": [
        "Easy text-preprocessing approaches\n",
        "Spacy and out of the box sentence embeddings\n",
        "SKlearn and ML-style count-tfidf-vectorizer"
      ]
    },
    {
      "metadata": {
        "id": "LkgH2vtpuDY-",
        "colab_type": "code",
        "colab": {
          "base_uri": "https://localhost:8080/",
          "height": 34
        },
        "outputId": "02699c41-6ce2-49e4-d980-9e8ff164700f"
      },
      "cell_type": "code",
      "source": [
        "# Import libraries\n",
        "\n",
        "import pandas as pd\n",
        "import numpy as np\n",
        "\n",
        "import spacy\n",
        "\n",
        "from sklearn.preprocessing import LabelEncoder\n",
        "labelencoder = LabelEncoder()\n",
        "\n",
        "# quick evaluation\n",
        "from sklearn.metrics import classification_report\n",
        "\n",
        "\n",
        "\n",
        "import xgboost as xgb\n",
        "from tqdm import tqdm\n",
        "from sklearn.svm import SVC\n",
        "from keras.models import Sequential\n",
        "from keras.layers.recurrent import LSTM, GRU\n",
        "from keras.layers.core import Dense, Activation, Dropout\n",
        "from keras.layers.embeddings import Embedding\n",
        "from keras.layers.normalization import BatchNormalization\n",
        "from keras.utils import np_utils\n",
        "from sklearn import preprocessing, decomposition, model_selection, metrics, pipeline\n",
        "from sklearn.model_selection import GridSearchCV\n",
        "from sklearn.feature_extraction.text import TfidfVectorizer, CountVectorizer\n",
        "from sklearn.decomposition import TruncatedSVD\n",
        "from sklearn.linear_model import LogisticRegression\n",
        "from sklearn.model_selection import train_test_split\n",
        "from sklearn.naive_bayes import MultinomialNB\n",
        "from keras.layers import GlobalMaxPooling1D, Conv1D, MaxPooling1D, Flatten, Bidirectional, SpatialDropout1D\n",
        "from keras.preprocessing import sequence, text\n",
        "from keras.callbacks import EarlyStopping\n",
        "from nltk import word_tokenize\n",
        "\n",
        "# Imporr libraries\n",
        "import pandas as pd\n",
        "import numpy as np\n",
        "import matplotlib.pyplot as plt\n",
        "import nltk # the natural langauage toolkit, open-source NLP\n",
        "from sklearn.neural_network import MLPClassifier\n",
        "\n",
        "# Surpress scientific notation\n",
        "pd.set_option('display.float_format', lambda x: '%.3f' % x)\n",
        "\n",
        "#!conda install -c conda-forge spacy\n",
        "import spacy\n",
        "\n",
        "from sklearn.preprocessing import LabelEncoder\n",
        "labelencoder = LabelEncoder()\n",
        "\n",
        "# quick evaluation\n",
        "from sklearn.metrics import classification_report\n",
        "\n",
        "# Essential elements of Keras\n",
        "import keras\n",
        "from keras.models import Sequential\n",
        "from keras.layers import Dense\n",
        "\n",
        "# Dropout layer\n",
        "from keras.layers import Dropout\n",
        "\n",
        "# Additional stuff: bells and whistles\n",
        "from keras.callbacks import ModelCheckpoint\n",
        "from keras.models import load_model\n",
        "\n",
        "from keras.preprocessing.sequence import pad_sequences\n",
        "\n",
        "from xgboost import XGBClassifier\n",
        "from sklearn.model_selection import train_test_split\n",
        "from sklearn.linear_model import LogisticRegression\n"
      ],
      "execution_count": 1,
      "outputs": [
        {
          "output_type": "stream",
          "text": [
            "Using TensorFlow backend.\n"
          ],
          "name": "stderr"
        }
      ]
    },
    {
      "metadata": {
        "id": "-wFkr_ptOF-W",
        "colab_type": "code",
        "colab": {
          "base_uri": "https://localhost:8080/",
          "height": 236
        },
        "outputId": "173d59cf-9453-4873-9471-b85c8c74e792"
      },
      "cell_type": "code",
      "source": [
        "# Download the small standard English language model\n",
        "!python -m spacy download en"
      ],
      "execution_count": 2,
      "outputs": [
        {
          "output_type": "stream",
          "text": [
            "Collecting en_core_web_sm==2.0.0 from https://github.com/explosion/spacy-models/releases/download/en_core_web_sm-2.0.0/en_core_web_sm-2.0.0.tar.gz#egg=en_core_web_sm==2.0.0\n",
            "\u001b[?25l  Downloading https://github.com/explosion/spacy-models/releases/download/en_core_web_sm-2.0.0/en_core_web_sm-2.0.0.tar.gz (37.4MB)\n",
            "\u001b[K    100% |████████████████████████████████| 37.4MB 3.9MB/s \n",
            "\u001b[?25hInstalling collected packages: en-core-web-sm\n",
            "  Running setup.py install for en-core-web-sm ... \u001b[?25l-\b \b\\\b \b|\b \bdone\n",
            "\u001b[?25hSuccessfully installed en-core-web-sm-2.0.0\n",
            "\n",
            "\u001b[93m    Linking successful\u001b[0m\n",
            "    /usr/local/lib/python3.6/dist-packages/en_core_web_sm -->\n",
            "    /usr/local/lib/python3.6/dist-packages/spacy/data/en\n",
            "\n",
            "    You can now load the model via spacy.load('en')\n",
            "\n"
          ],
          "name": "stdout"
        }
      ]
    },
    {
      "metadata": {
        "id": "h4xaWD1BOJ3V",
        "colab_type": "code",
        "colab": {}
      },
      "cell_type": "code",
      "source": [
        "# Load up the model, so we can use it\n",
        "\n",
        "nlp = spacy.load('en')"
      ],
      "execution_count": 0,
      "outputs": []
    },
    {
      "metadata": {
        "id": "Crn_GqMuOLqf",
        "colab_type": "code",
        "colab": {}
      },
      "cell_type": "code",
      "source": [
        "# Load up the data\n",
        "\n",
        "data = pd.read_csv('https://github.com/SDS-AAU/M3-2018/raw/master/assignments/individual/data/train.csv')"
      ],
      "execution_count": 0,
      "outputs": []
    },
    {
      "metadata": {
        "id": "nNp3XAPcONlJ",
        "colab_type": "code",
        "colab": {}
      },
      "cell_type": "code",
      "source": [
        "# take a 1000 sample (because it's an example)\n",
        "\n",
        "data = data.sample(n=1000)"
      ],
      "execution_count": 0,
      "outputs": []
    },
    {
      "metadata": {
        "id": "6cdLSPOGOPE8",
        "colab_type": "code",
        "colab": {}
      },
      "cell_type": "code",
      "source": [
        "# If you run this just like that, it will take around 10min for the whole dataset\n",
        "\n",
        "data['spacy_sentence_vec'] = data['text'].map(lambda t: nlp(t).vector)"
      ],
      "execution_count": 0,
      "outputs": []
    },
    {
      "metadata": {
        "id": "yI-kOIZLORqk",
        "colab_type": "code",
        "colab": {
          "base_uri": "https://localhost:8080/",
          "height": 201
        },
        "outputId": "ea43bcd2-d6e4-4997-9f4c-d4b6d3809419"
      },
      "cell_type": "code",
      "source": [
        "# the spacy_sentence_vec column now contains a vector representation of each sentence with 384 dimensions\n",
        "\n",
        "data.head()"
      ],
      "execution_count": 7,
      "outputs": [
        {
          "output_type": "execute_result",
          "data": {
            "text/html": [
              "<div>\n",
              "<style scoped>\n",
              "    .dataframe tbody tr th:only-of-type {\n",
              "        vertical-align: middle;\n",
              "    }\n",
              "\n",
              "    .dataframe tbody tr th {\n",
              "        vertical-align: top;\n",
              "    }\n",
              "\n",
              "    .dataframe thead th {\n",
              "        text-align: right;\n",
              "    }\n",
              "</style>\n",
              "<table border=\"1\" class=\"dataframe\">\n",
              "  <thead>\n",
              "    <tr style=\"text-align: right;\">\n",
              "      <th></th>\n",
              "      <th>id</th>\n",
              "      <th>text</th>\n",
              "      <th>author</th>\n",
              "      <th>spacy_sentence_vec</th>\n",
              "    </tr>\n",
              "  </thead>\n",
              "  <tbody>\n",
              "    <tr>\n",
              "      <th>3992</th>\n",
              "      <td>id07595</td>\n",
              "      <td>In the present case your application is the mo...</td>\n",
              "      <td>EAP</td>\n",
              "      <td>[0.46331164, 0.3752259, 0.54843503, 2.2726707,...</td>\n",
              "    </tr>\n",
              "    <tr>\n",
              "      <th>1319</th>\n",
              "      <td>id18046</td>\n",
              "      <td>if so, had she any when found?</td>\n",
              "      <td>EAP</td>\n",
              "      <td>[0.98625946, -1.3784728, 0.7315732, 0.91879344...</td>\n",
              "    </tr>\n",
              "    <tr>\n",
              "      <th>12004</th>\n",
              "      <td>id17391</td>\n",
              "      <td>I have spoken to you, Oinos, as to a child of ...</td>\n",
              "      <td>EAP</td>\n",
              "      <td>[0.7904373, 0.65359515, 0.8918596, 0.8185714, ...</td>\n",
              "    </tr>\n",
              "    <tr>\n",
              "      <th>5351</th>\n",
              "      <td>id20743</td>\n",
              "      <td>Now he was no less a fanatic, but his desire t...</td>\n",
              "      <td>HPL</td>\n",
              "      <td>[0.44771466, 0.076828614, 0.08537894, 1.165544...</td>\n",
              "    </tr>\n",
              "    <tr>\n",
              "      <th>7153</th>\n",
              "      <td>id02040</td>\n",
              "      <td>But there is one pleasure still within the rea...</td>\n",
              "      <td>EAP</td>\n",
              "      <td>[1.2325304, 0.31763524, -0.10880911, 1.1959221...</td>\n",
              "    </tr>\n",
              "  </tbody>\n",
              "</table>\n",
              "</div>"
            ],
            "text/plain": [
              "            id                                               text author  \\\n",
              "3992   id07595  In the present case your application is the mo...    EAP   \n",
              "1319   id18046                     if so, had she any when found?    EAP   \n",
              "12004  id17391  I have spoken to you, Oinos, as to a child of ...    EAP   \n",
              "5351   id20743  Now he was no less a fanatic, but his desire t...    HPL   \n",
              "7153   id02040  But there is one pleasure still within the rea...    EAP   \n",
              "\n",
              "                                      spacy_sentence_vec  \n",
              "3992   [0.46331164, 0.3752259, 0.54843503, 2.2726707,...  \n",
              "1319   [0.98625946, -1.3784728, 0.7315732, 0.91879344...  \n",
              "12004  [0.7904373, 0.65359515, 0.8918596, 0.8185714, ...  \n",
              "5351   [0.44771466, 0.076828614, 0.08537894, 1.165544...  \n",
              "7153   [1.2325304, 0.31763524, -0.10880911, 1.1959221...  "
            ]
          },
          "metadata": {
            "tags": []
          },
          "execution_count": 7
        }
      ]
    },
    {
      "metadata": {
        "id": "tfKGwJsZOVju",
        "colab_type": "code",
        "colab": {}
      },
      "cell_type": "code",
      "source": [
        "# This is how we transform the sequence of lists in rows into a numpy array\n",
        "# We just use vstack - that stands for vertical stacking\n",
        "\n",
        "X = np.vstack(data['spacy_sentence_vec'])"
      ],
      "execution_count": 0,
      "outputs": []
    },
    {
      "metadata": {
        "id": "0prM709HOXdH",
        "colab_type": "code",
        "colab": {
          "base_uri": "https://localhost:8080/",
          "height": 34
        },
        "outputId": "80611026-d37e-4dbe-b159-4b3954284d82"
      },
      "cell_type": "code",
      "source": [
        "# As expected: a 1000 by 384 matrix\n",
        "\n",
        "X.shape"
      ],
      "execution_count": 9,
      "outputs": [
        {
          "output_type": "execute_result",
          "data": {
            "text/plain": [
              "(1000, 384)"
            ]
          },
          "metadata": {
            "tags": []
          },
          "execution_count": 9
        }
      ]
    },
    {
      "metadata": {
        "id": "WGleFHIQOZBO",
        "colab_type": "code",
        "colab": {}
      },
      "cell_type": "code",
      "source": [
        "# our y can be defined from the author column using a standard label_encoder\n",
        "\n",
        "y = labelencoder.fit_transform(data['author'])"
      ],
      "execution_count": 0,
      "outputs": []
    },
    {
      "metadata": {
        "id": "L4FGKeCBUA1k",
        "colab_type": "text"
      },
      "cell_type": "markdown",
      "source": [
        "# Random forrest classification\n",
        "---\n",
        "\n",
        "\n",
        "\n",
        "To have a baseline I start out by using a simple random forest classification model to be able to compare the results"
      ]
    },
    {
      "metadata": {
        "id": "OsdHIjvNOdFY",
        "colab_type": "code",
        "colab": {}
      },
      "cell_type": "code",
      "source": [
        "# Split into train-test\n",
        "\n",
        "from sklearn.model_selection import train_test_split\n",
        "X_train, X_test, y_train, y_test = train_test_split(X, y, test_size = 0.2, random_state = 42)"
      ],
      "execution_count": 0,
      "outputs": []
    },
    {
      "metadata": {
        "id": "C_sj7ZyHTwuj",
        "colab_type": "code",
        "colab": {
          "base_uri": "https://localhost:8080/",
          "height": 118
        },
        "outputId": "9737e1ef-0b2d-4e09-f1aa-2de2f2ec9b6c"
      },
      "cell_type": "code",
      "source": [
        "# Fitting Random Forest Classification to the Training set\n",
        "from sklearn.ensemble import RandomForestClassifier\n",
        "classifier = RandomForestClassifier(n_estimators = 200, criterion = 'entropy', random_state = 21)\n",
        "classifier.fit(X_train, y_train)"
      ],
      "execution_count": 12,
      "outputs": [
        {
          "output_type": "execute_result",
          "data": {
            "text/plain": [
              "RandomForestClassifier(bootstrap=True, class_weight=None, criterion='entropy',\n",
              "            max_depth=None, max_features='auto', max_leaf_nodes=None,\n",
              "            min_impurity_decrease=0.0, min_impurity_split=None,\n",
              "            min_samples_leaf=1, min_samples_split=2,\n",
              "            min_weight_fraction_leaf=0.0, n_estimators=200, n_jobs=1,\n",
              "            oob_score=False, random_state=21, verbose=0, warm_start=False)"
            ]
          },
          "metadata": {
            "tags": []
          },
          "execution_count": 12
        }
      ]
    },
    {
      "metadata": {
        "id": "iBmovxGNYpJ3",
        "colab_type": "text"
      },
      "cell_type": "markdown",
      "source": [
        "**Results from Random Forrest Classification model**\n",
        "\n",
        "Here we see the results with a fairly good precision. lets check the next model. \n"
      ]
    },
    {
      "metadata": {
        "id": "TPuDS7FJYm2N",
        "colab_type": "code",
        "colab": {
          "base_uri": "https://localhost:8080/",
          "height": 152
        },
        "outputId": "341e0df2-8562-4699-b6db-55cbddd2c358"
      },
      "cell_type": "code",
      "source": [
        "print(classification_report(y_test, classifier.predict(X_test), target_names=labelencoder.classes_))"
      ],
      "execution_count": 13,
      "outputs": [
        {
          "output_type": "stream",
          "text": [
            "             precision    recall  f1-score   support\n",
            "\n",
            "        EAP       0.57      0.75      0.65        89\n",
            "        HPL       0.52      0.29      0.38        51\n",
            "        MWS       0.56      0.50      0.53        60\n",
            "\n",
            "avg / total       0.55      0.56      0.54       200\n",
            "\n"
          ],
          "name": "stdout"
        }
      ]
    },
    {
      "metadata": {
        "id": "MXj-2t4alLvf",
        "colab_type": "text"
      },
      "cell_type": "markdown",
      "source": [
        "#XGBoost Model\n",
        "---\n",
        "Now we will try with the XG Boost model\n"
      ]
    },
    {
      "metadata": {
        "id": "URfrTGDEknhu",
        "colab_type": "code",
        "colab": {}
      },
      "cell_type": "code",
      "source": [
        "from numpy import loadtxt\n",
        "from xgboost import XGBClassifier\n",
        "from sklearn.model_selection import train_test_split\n",
        "from sklearn.metrics import accuracy_score"
      ],
      "execution_count": 0,
      "outputs": []
    },
    {
      "metadata": {
        "id": "5bKLtAAFi6g8",
        "colab_type": "code",
        "colab": {
          "base_uri": "https://localhost:8080/",
          "height": 118
        },
        "outputId": "26226ef4-2ec0-4eda-e884-a021f0ace102"
      },
      "cell_type": "code",
      "source": [
        "# Split into train-test\n",
        "from sklearn.model_selection import train_test_split\n",
        "X_train, X_test, y_train, y_test = train_test_split(X, y, test_size = 0.2, random_state = 42)\n",
        "\n",
        "# fit model no training data\n",
        "classifier = XGBClassifier(max_depth=7, n_estimators=200, colsample_bytree=0.8, \n",
        "                        subsample=0.8, nthread=10, learning_rate=0.1)\n",
        "classifier.fit(X_train, y_train)\n",
        "\n",
        "print(classifier)\n",
        "\n"
      ],
      "execution_count": 15,
      "outputs": [
        {
          "output_type": "stream",
          "text": [
            "XGBClassifier(base_score=0.5, booster='gbtree', colsample_bylevel=1,\n",
            "       colsample_bytree=0.8, gamma=0, learning_rate=0.1, max_delta_step=0,\n",
            "       max_depth=7, min_child_weight=1, missing=None, n_estimators=200,\n",
            "       n_jobs=1, nthread=10, objective='multi:softprob', random_state=0,\n",
            "       reg_alpha=0, reg_lambda=1, scale_pos_weight=1, seed=None,\n",
            "       silent=True, subsample=0.8)\n"
          ],
          "name": "stdout"
        }
      ]
    },
    {
      "metadata": {
        "id": "M3Wo7z8Yj4RH",
        "colab_type": "code",
        "colab": {
          "base_uri": "https://localhost:8080/",
          "height": 104
        },
        "outputId": "09baf6ba-96e1-49c7-faeb-dd7ee84d085b"
      },
      "cell_type": "code",
      "source": [
        "# make predictions for test data\n",
        "y_pred = classifier.predict(X_test)\n",
        "predictions = [round(value) for value in y_pred]\n",
        "\n",
        "# make predictions for test data\n",
        "y_pred = classifier.predict(X_test)\n",
        "predictions = [round(value) for value in y_pred]"
      ],
      "execution_count": 16,
      "outputs": [
        {
          "output_type": "stream",
          "text": [
            "/usr/local/lib/python3.6/dist-packages/sklearn/preprocessing/label.py:151: DeprecationWarning: The truth value of an empty array is ambiguous. Returning False, but in future this will result in an error. Use `array.size > 0` to check that an array is not empty.\n",
            "  if diff:\n",
            "/usr/local/lib/python3.6/dist-packages/sklearn/preprocessing/label.py:151: DeprecationWarning: The truth value of an empty array is ambiguous. Returning False, but in future this will result in an error. Use `array.size > 0` to check that an array is not empty.\n",
            "  if diff:\n"
          ],
          "name": "stderr"
        }
      ]
    },
    {
      "metadata": {
        "id": "1oT_F3CamutN",
        "colab_type": "text"
      },
      "cell_type": "markdown",
      "source": [
        "**Results from XGBoost model**"
      ]
    },
    {
      "metadata": {
        "id": "dErORQIyjCFc",
        "colab_type": "code",
        "colab": {
          "base_uri": "https://localhost:8080/",
          "height": 205
        },
        "outputId": "2418ff3c-5439-4a85-9fd9-03f21ac04d5c"
      },
      "cell_type": "code",
      "source": [
        "print(classification_report(y_test, classifier.predict(X_test), target_names=labelencoder.classes_))"
      ],
      "execution_count": 17,
      "outputs": [
        {
          "output_type": "stream",
          "text": [
            "             precision    recall  f1-score   support\n",
            "\n",
            "        EAP       0.62      0.73      0.67        89\n",
            "        HPL       0.50      0.33      0.40        51\n",
            "        MWS       0.57      0.58      0.58        60\n",
            "\n",
            "avg / total       0.58      0.58      0.57       200\n",
            "\n"
          ],
          "name": "stdout"
        },
        {
          "output_type": "stream",
          "text": [
            "/usr/local/lib/python3.6/dist-packages/sklearn/preprocessing/label.py:151: DeprecationWarning: The truth value of an empty array is ambiguous. Returning False, but in future this will result in an error. Use `array.size > 0` to check that an array is not empty.\n",
            "  if diff:\n"
          ],
          "name": "stderr"
        }
      ]
    },
    {
      "metadata": {
        "id": "N7e3v2EBYD7_",
        "colab_type": "text"
      },
      "cell_type": "markdown",
      "source": [
        "The precission didnt improve much so maybe a linear way might not be the best way to approach this problem. Thefore I will try with artifical neural networks or more specifically recurrent neural networds\n",
        "\n",
        "\n",
        "# Neural Net Architecture\n",
        "\n",
        "\n",
        "---\n",
        "??\n",
        "\n",
        "\n"
      ]
    },
    {
      "metadata": {
        "id": "m8rh0O1SiasQ",
        "colab_type": "code",
        "colab": {}
      },
      "cell_type": "code",
      "source": [
        "from sklearn.feature_extraction.text import TfidfVectorizer\n",
        "vectorizer = TfidfVectorizer(stop_words='english', \n",
        "                             use_idf=True, \n",
        "                            smooth_idf=True)\n",
        "X = vectorizer.fit_transform(data['text'])"
      ],
      "execution_count": 0,
      "outputs": []
    },
    {
      "metadata": {
        "id": "XDwQZ9UhiuOF",
        "colab_type": "code",
        "colab": {}
      },
      "cell_type": "code",
      "source": [
        "# This can be added to reduce dimensionality (using SVC rather than PCA because of sparse matrix input)\n",
        "# Dimensionality reduction (not really helpful)\n",
        "\n",
        "from sklearn.decomposition import TruncatedSVD\n",
        "svd = TruncatedSVD(n_components=384, algorithm='randomized', n_iter=10, random_state=42)\n",
        "X = svd.fit_transform(X)"
      ],
      "execution_count": 0,
      "outputs": []
    },
    {
      "metadata": {
        "colab_type": "code",
        "id": "uipALCrXAnUA",
        "colab": {}
      },
      "cell_type": "code",
      "source": [
        "# Import and instantiate the one hot encoder\n",
        "\n",
        "from sklearn.preprocessing import OneHotEncoder\n",
        "one_hot_enc = OneHotEncoder()"
      ],
      "execution_count": 0,
      "outputs": []
    },
    {
      "metadata": {
        "colab_type": "code",
        "id": "NhV2xRxAAnUC",
        "colab": {}
      },
      "cell_type": "code",
      "source": [
        "# Create the dummy-matrix and reshaping (actually the other way around)\n",
        "\n",
        "y_matrix = one_hot_enc.fit_transform(y.reshape(-1,1))"
      ],
      "execution_count": 0,
      "outputs": []
    },
    {
      "metadata": {
        "id": "Okz3WclzbI7P",
        "colab_type": "code",
        "colab": {}
      },
      "cell_type": "code",
      "source": [
        "#y = keras.utils.to_categorical(y, num_classes=3)"
      ],
      "execution_count": 0,
      "outputs": []
    },
    {
      "metadata": {
        "id": "q7VYH6HrAokV",
        "colab_type": "code",
        "colab": {}
      },
      "cell_type": "code",
      "source": [
        "# Split into train-test\n",
        "from sklearn.model_selection import train_test_split\n",
        "X_train, X_test, y_train, y_test = train_test_split(X, y_matrix, test_size = 0.2, random_state = 42)"
      ],
      "execution_count": 0,
      "outputs": []
    },
    {
      "metadata": {
        "id": "uUALxv__Eg0c",
        "colab_type": "code",
        "colab": {
          "base_uri": "https://localhost:8080/",
          "height": 50
        },
        "outputId": "bcb3207b-41f2-4b12-deff-be211df036a2"
      },
      "cell_type": "code",
      "source": [
        "# Quick check of the created sets\n",
        "\n",
        "print(X_train.shape)\n",
        "print(y_train.shape)"
      ],
      "execution_count": 24,
      "outputs": [
        {
          "output_type": "stream",
          "text": [
            "(800, 384)\n",
            "(800, 3)\n"
          ],
          "name": "stdout"
        }
      ]
    },
    {
      "metadata": {
        "id": "yc9TW0VOcWP6",
        "colab_type": "code",
        "colab": {
          "base_uri": "https://localhost:8080/",
          "height": 571
        },
        "outputId": "25de96ec-882b-499e-c7cd-d4c456c7b841"
      },
      "cell_type": "code",
      "source": [
        "# multi-class classification problem\n",
        "model = Sequential()\n",
        "model.add(Dense(384, activation='tanh', input_shape=(384,))),\n",
        "model.add(Dense(15, activation='tanh')),\n",
        "model.add(Dense(3, activation='softmax'))\n",
        "\n",
        "# Compile the model\n",
        "model.compile(optimizer='rmsprop', loss='sparse_categorical_crossentropy', metrics=['accuracy'])\n",
        "\n",
        "early_stopping_monitor = EarlyStopping(patience=3)\n",
        "\n",
        "# Fit the model\n",
        "history = model.fit(X, y_matrix, validation_data=(X_test, y_test), epochs=250, callbacks=[early_stopping_monitor])"
      ],
      "execution_count": 25,
      "outputs": [
        {
          "output_type": "error",
          "ename": "ValueError",
          "evalue": "ignored",
          "traceback": [
            "\u001b[0;31m---------------------------------------------------------------------------\u001b[0m",
            "\u001b[0;31mValueError\u001b[0m                                Traceback (most recent call last)",
            "\u001b[0;32m<ipython-input-25-8803b42fb610>\u001b[0m in \u001b[0;36m<module>\u001b[0;34m()\u001b[0m\n\u001b[1;32m     10\u001b[0m \u001b[0;34m\u001b[0m\u001b[0m\n\u001b[1;32m     11\u001b[0m \u001b[0;31m# Fit the model\u001b[0m\u001b[0;34m\u001b[0m\u001b[0;34m\u001b[0m\u001b[0m\n\u001b[0;32m---> 12\u001b[0;31m \u001b[0mhistory\u001b[0m \u001b[0;34m=\u001b[0m \u001b[0mmodel\u001b[0m\u001b[0;34m.\u001b[0m\u001b[0mfit\u001b[0m\u001b[0;34m(\u001b[0m\u001b[0mX\u001b[0m\u001b[0;34m,\u001b[0m \u001b[0my_matrix\u001b[0m\u001b[0;34m,\u001b[0m \u001b[0mvalidation_data\u001b[0m\u001b[0;34m=\u001b[0m\u001b[0;34m(\u001b[0m\u001b[0mX_test\u001b[0m\u001b[0;34m,\u001b[0m \u001b[0my_test\u001b[0m\u001b[0;34m)\u001b[0m\u001b[0;34m,\u001b[0m \u001b[0mepochs\u001b[0m\u001b[0;34m=\u001b[0m\u001b[0;36m250\u001b[0m\u001b[0;34m,\u001b[0m \u001b[0mcallbacks\u001b[0m\u001b[0;34m=\u001b[0m\u001b[0;34m[\u001b[0m\u001b[0mearly_stopping_monitor\u001b[0m\u001b[0;34m]\u001b[0m\u001b[0;34m)\u001b[0m\u001b[0;34m\u001b[0m\u001b[0m\n\u001b[0m",
            "\u001b[0;32m/usr/local/lib/python3.6/dist-packages/keras/engine/training.py\u001b[0m in \u001b[0;36mfit\u001b[0;34m(self, x, y, batch_size, epochs, verbose, callbacks, validation_split, validation_data, shuffle, class_weight, sample_weight, initial_epoch, steps_per_epoch, validation_steps, **kwargs)\u001b[0m\n\u001b[1;32m    950\u001b[0m             \u001b[0msample_weight\u001b[0m\u001b[0;34m=\u001b[0m\u001b[0msample_weight\u001b[0m\u001b[0;34m,\u001b[0m\u001b[0;34m\u001b[0m\u001b[0m\n\u001b[1;32m    951\u001b[0m             \u001b[0mclass_weight\u001b[0m\u001b[0;34m=\u001b[0m\u001b[0mclass_weight\u001b[0m\u001b[0;34m,\u001b[0m\u001b[0;34m\u001b[0m\u001b[0m\n\u001b[0;32m--> 952\u001b[0;31m             batch_size=batch_size)\n\u001b[0m\u001b[1;32m    953\u001b[0m         \u001b[0;31m# Prepare validation data.\u001b[0m\u001b[0;34m\u001b[0m\u001b[0;34m\u001b[0m\u001b[0m\n\u001b[1;32m    954\u001b[0m         \u001b[0mdo_validation\u001b[0m \u001b[0;34m=\u001b[0m \u001b[0;32mFalse\u001b[0m\u001b[0;34m\u001b[0m\u001b[0m\n",
            "\u001b[0;32m/usr/local/lib/python3.6/dist-packages/keras/engine/training.py\u001b[0m in \u001b[0;36m_standardize_user_data\u001b[0;34m(self, x, y, sample_weight, class_weight, check_array_lengths, batch_size)\u001b[0m\n\u001b[1;32m    787\u001b[0m                 \u001b[0mfeed_output_shapes\u001b[0m\u001b[0;34m,\u001b[0m\u001b[0;34m\u001b[0m\u001b[0m\n\u001b[1;32m    788\u001b[0m                 \u001b[0mcheck_batch_axis\u001b[0m\u001b[0;34m=\u001b[0m\u001b[0;32mFalse\u001b[0m\u001b[0;34m,\u001b[0m  \u001b[0;31m# Don't enforce the batch size.\u001b[0m\u001b[0;34m\u001b[0m\u001b[0m\n\u001b[0;32m--> 789\u001b[0;31m                 exception_prefix='target')\n\u001b[0m\u001b[1;32m    790\u001b[0m \u001b[0;34m\u001b[0m\u001b[0m\n\u001b[1;32m    791\u001b[0m             \u001b[0;31m# Generate sample-wise weight values given the `sample_weight` and\u001b[0m\u001b[0;34m\u001b[0m\u001b[0;34m\u001b[0m\u001b[0m\n",
            "\u001b[0;32m/usr/local/lib/python3.6/dist-packages/keras/engine/training_utils.py\u001b[0m in \u001b[0;36mstandardize_input_data\u001b[0;34m(data, names, shapes, check_batch_axis, exception_prefix)\u001b[0m\n\u001b[1;32m    136\u001b[0m                             \u001b[0;34m': expected '\u001b[0m \u001b[0;34m+\u001b[0m \u001b[0mnames\u001b[0m\u001b[0;34m[\u001b[0m\u001b[0mi\u001b[0m\u001b[0;34m]\u001b[0m \u001b[0;34m+\u001b[0m \u001b[0;34m' to have shape '\u001b[0m \u001b[0;34m+\u001b[0m\u001b[0;34m\u001b[0m\u001b[0m\n\u001b[1;32m    137\u001b[0m                             \u001b[0mstr\u001b[0m\u001b[0;34m(\u001b[0m\u001b[0mshape\u001b[0m\u001b[0;34m)\u001b[0m \u001b[0;34m+\u001b[0m \u001b[0;34m' but got array with shape '\u001b[0m \u001b[0;34m+\u001b[0m\u001b[0;34m\u001b[0m\u001b[0m\n\u001b[0;32m--> 138\u001b[0;31m                             str(data_shape))\n\u001b[0m\u001b[1;32m    139\u001b[0m     \u001b[0;32mreturn\u001b[0m \u001b[0mdata\u001b[0m\u001b[0;34m\u001b[0m\u001b[0m\n\u001b[1;32m    140\u001b[0m \u001b[0;34m\u001b[0m\u001b[0m\n",
            "\u001b[0;31mValueError\u001b[0m: Error when checking target: expected dense_3 to have shape (1,) but got array with shape (3,)"
          ]
        }
      ]
    },
    {
      "metadata": {
        "id": "b5D-R2fZCszk",
        "colab_type": "code",
        "colab": {
          "base_uri": "https://localhost:8080/",
          "height": 236
        },
        "outputId": "d5d79a23-8172-4271-8a6a-bdc3d0baa76d"
      },
      "cell_type": "code",
      "source": [
        "model.summary()"
      ],
      "execution_count": 29,
      "outputs": [
        {
          "output_type": "stream",
          "text": [
            "_________________________________________________________________\n",
            "Layer (type)                 Output Shape              Param #   \n",
            "=================================================================\n",
            "dense_4 (Dense)              (None, 384)               147840    \n",
            "_________________________________________________________________\n",
            "dense_5 (Dense)              (None, 15)                5775      \n",
            "_________________________________________________________________\n",
            "dense_6 (Dense)              (None, 3)                 48        \n",
            "=================================================================\n",
            "Total params: 153,663\n",
            "Trainable params: 153,663\n",
            "Non-trainable params: 0\n",
            "_________________________________________________________________\n"
          ],
          "name": "stdout"
        }
      ]
    },
    {
      "metadata": {
        "id": "vsgh6nTpCtkA",
        "colab_type": "code",
        "colab": {}
      },
      "cell_type": "code",
      "source": [
        "import matplotlib.pyplot as plt\n",
        "import seaborn as sns"
      ],
      "execution_count": 0,
      "outputs": []
    },
    {
      "metadata": {
        "id": "Blcw8PBfCxbK",
        "colab_type": "code",
        "colab": {
          "base_uri": "https://localhost:8080/",
          "height": 734
        },
        "outputId": "5d235fd9-4eeb-47b3-9385-f01cb9f1872b"
      },
      "cell_type": "code",
      "source": [
        "plt.style.use('seaborn')\n",
        "\n",
        "# summarize history for accuracy\n",
        "plt.plot(history.history['acc'])\n",
        "plt.plot(history.history['val_acc'])\n",
        "plt.title('model accuracy')\n",
        "plt.ylabel('accuracy')\n",
        "plt.xlabel('epoch')\n",
        "plt.legend(['train', 'test'], loc='upper left')\n",
        "plt.show()\n",
        "# summarize history for loss\n",
        "plt.plot(history.history['loss'])\n",
        "plt.plot(history.history['val_loss'])\n",
        "plt.title('model loss')\n",
        "plt.ylabel('loss')\n",
        "plt.xlabel('epoch')\n",
        "plt.legend(['train', 'test'], loc='upper left')\n",
        "plt.show()"
      ],
      "execution_count": 31,
      "outputs": [
        {
          "output_type": "display_data",
          "data": {
            "image/png": "[encoded data removed]",
            "text/plain": [
              "<matplotlib.figure.Figure at 0x7f25865a0eb8>"
            ]
          },
          "metadata": {
            "tags": []
          }
        },
        {
          "output_type": "display_data",
          "data": {
            "image/png": "[encoded data removed]",
            "text/plain": [
              "<matplotlib.figure.Figure at 0x7f258659f978>"
            ]
          },
          "metadata": {
            "tags": []
          }
        }
      ]
    },
    {
      "metadata": {
        "id": "V6ZCPLaVHAa9",
        "colab_type": "code",
        "colab": {
          "base_uri": "https://localhost:8080/",
          "height": 50
        },
        "outputId": "fe89b88b-ce3c-4851-e940-4693fefce13d"
      },
      "cell_type": "code",
      "source": [
        "# How does it perform?\n",
        "\n",
        "model.evaluate(X,y)"
      ],
      "execution_count": 34,
      "outputs": [
        {
          "output_type": "stream",
          "text": [
            "1000/1000 [==============================] - 0s 67us/step\n"
          ],
          "name": "stdout"
        },
        {
          "output_type": "execute_result",
          "data": {
            "text/plain": [
              "[0.07716008584201337, 0.988]"
            ]
          },
          "metadata": {
            "tags": []
          },
          "execution_count": 34
        }
      ]
    },
    {
      "metadata": {
        "id": "1Plj8xGOzktC",
        "colab_type": "text"
      },
      "cell_type": "markdown",
      "source": [
        "## Another neural net example\n",
        "\n",
        "\n",
        "First we prepare output variable for the neural net model using one hot encoder"
      ]
    },
    {
      "metadata": {
        "id": "3sC7sOXnzkQu",
        "colab_type": "code",
        "colab": {}
      },
      "cell_type": "code",
      "source": [
        "# Import and instantiate the one hot encoder\n",
        "\n",
        "from sklearn.preprocessing import OneHotEncoder\n",
        "one_hot_enc = OneHotEncoder()"
      ],
      "execution_count": 0,
      "outputs": []
    },
    {
      "metadata": {
        "id": "3jO91Mw2z40B",
        "colab_type": "code",
        "colab": {}
      },
      "cell_type": "code",
      "source": [
        "# Create the dummy-matrix and reshaping (actually the other way around)\n",
        "\n",
        "y_matrix = one_hot_enc.fit_transform(y.reshape(-1,1))"
      ],
      "execution_count": 0,
      "outputs": []
    },
    {
      "metadata": {
        "id": "JXHTUjjKz9Gr",
        "colab_type": "code",
        "colab": {}
      },
      "cell_type": "code",
      "source": [
        "# Create new train and test-splits\n",
        "\n",
        "from sklearn.model_selection import train_test_split\n",
        "X_train, X_test, y_train, y_test = train_test_split(X, y_matrix, test_size = 0.2, random_state = 42)"
      ],
      "execution_count": 0,
      "outputs": []
    },
    {
      "metadata": {
        "id": "kslTuVXC0BP8",
        "colab_type": "code",
        "colab": {
          "base_uri": "https://localhost:8080/",
          "height": 50
        },
        "outputId": "94b84ba1-69be-4c5f-a9c0-c0d743092629"
      },
      "cell_type": "code",
      "source": [
        "# Quick check of the created sets\n",
        "\n",
        "print(X_train.shape)\n",
        "print(y_train.shape)"
      ],
      "execution_count": 29,
      "outputs": [
        {
          "output_type": "stream",
          "text": [
            "(800, 384)\n",
            "(800, 3)\n"
          ],
          "name": "stdout"
        }
      ]
    },
    {
      "metadata": {
        "id": "vt7oMrx10CMt",
        "colab_type": "text"
      },
      "cell_type": "markdown",
      "source": [
        "Now we start with the neural net"
      ]
    },
    {
      "metadata": {
        "id": "Ol0HiCOM0Go-",
        "colab_type": "code",
        "colab": {}
      },
      "cell_type": "code",
      "source": [
        "# Importing the keras library for deep learning\n",
        "\n",
        "# Essential elements of Keras\n",
        "import keras\n",
        "from keras.models import Sequential\n",
        "from keras.layers import Dense\n",
        "\n",
        "# Dropout layer\n",
        "from keras.layers import Dropout\n",
        "\n",
        "# Additional stuff: bells and whistles\n",
        "from keras.callbacks import ModelCheckpoint\n",
        "from keras.models import load_model\n"
      ],
      "execution_count": 0,
      "outputs": []
    },
    {
      "metadata": {
        "id": "Zlz8EnNg0SUn",
        "colab_type": "code",
        "colab": {}
      },
      "cell_type": "code",
      "source": [
        "# As in Sklearn and other models we instatiate the classifier first (nothing new here)\n",
        "classifier = Sequential() "
      ],
      "execution_count": 0,
      "outputs": []
    },
    {
      "metadata": {
        "id": "-cHTtHIh0UFI",
        "colab_type": "code",
        "colab": {}
      },
      "cell_type": "code",
      "source": [
        "# From here we build up the network one layer at a time using the \"add\" method\n",
        "\n",
        "#### Input Layer ####\n",
        "classifier.add(Dense(units = 384, activation='relu', input_dim = 384))\n",
        "classifier.add(Dropout(rate = 0.3))\n",
        "\n",
        "#### Hidden ####\n",
        "classifier.add(Dense(units = 384, activation='relu'))\n",
        "classifier.add(Dropout(rate = 0.3))\n",
        "\n",
        "#### Output ####\n",
        "classifier.add(Dense(units = 3, activation='softmax'))"
      ],
      "execution_count": 0,
      "outputs": []
    },
    {
      "metadata": {
        "id": "xgT2aoC10WAz",
        "colab_type": "code",
        "colab": {}
      },
      "cell_type": "code",
      "source": [
        "#### COMPILE ####\n",
        "classifier.compile(optimizer=\"adam\", loss = 'categorical_crossentropy', metrics = ['accuracy'])"
      ],
      "execution_count": 0,
      "outputs": []
    },
    {
      "metadata": {
        "id": "5JHV62vI0Zkl",
        "colab_type": "code",
        "colab": {
          "base_uri": "https://localhost:8080/",
          "height": 304
        },
        "outputId": "7c31c4b2-6bd3-4c1c-ec3d-3937c75ea6a3"
      },
      "cell_type": "code",
      "source": [
        "# Let's check out how our network looks like\n",
        "\n",
        "classifier.summary()"
      ],
      "execution_count": 34,
      "outputs": [
        {
          "output_type": "stream",
          "text": [
            "_________________________________________________________________\n",
            "Layer (type)                 Output Shape              Param #   \n",
            "=================================================================\n",
            "dense_4 (Dense)              (None, 384)               147840    \n",
            "_________________________________________________________________\n",
            "dropout_1 (Dropout)          (None, 384)               0         \n",
            "_________________________________________________________________\n",
            "dense_5 (Dense)              (None, 384)               147840    \n",
            "_________________________________________________________________\n",
            "dropout_2 (Dropout)          (None, 384)               0         \n",
            "_________________________________________________________________\n",
            "dense_6 (Dense)              (None, 3)                 1155      \n",
            "=================================================================\n",
            "Total params: 296,835\n",
            "Trainable params: 296,835\n",
            "Non-trainable params: 0\n",
            "_________________________________________________________________\n"
          ],
          "name": "stdout"
        }
      ]
    },
    {
      "metadata": {
        "id": "gQODfhmb0en3",
        "colab_type": "code",
        "colab": {}
      },
      "cell_type": "code",
      "source": [
        "# The checkpointer is not necessary but useful, as it will save the best performing model for later use\n",
        "checkpointer = ModelCheckpoint(filepath=\"model.h5\",\n",
        "                               verbose=0,\n",
        "                               save_best_only=True)"
      ],
      "execution_count": 0,
      "outputs": []
    },
    {
      "metadata": {
        "id": "jss_KMV00f8R",
        "colab_type": "code",
        "colab": {
          "base_uri": "https://localhost:8080/",
          "height": 8471
        },
        "outputId": "03f8f41b-738a-4e3f-c8c6-b79ff8ed4b26"
      },
      "cell_type": "code",
      "source": [
        "# We train the model with the fit method (surprise). We specify some parameters: how many observations per batch, how many epochs to train\n",
        "# the rest is optional but nice (calculate a test-set-performance score at each epoch, shuffle the observations in each batch as well as)\n",
        "# use the callback which saves the best model.\n",
        "history = classifier.fit(X_train, y_train, batch_size= 32, epochs= 250, validation_data=(X_test, y_test), shuffle=True,\n",
        "                        callbacks=[checkpointer])"
      ],
      "execution_count": 36,
      "outputs": [
        {
          "output_type": "stream",
          "text": [
            "Train on 800 samples, validate on 200 samples\n",
            "Epoch 1/250\n",
            "800/800 [==============================] - 1s 1ms/step - loss: 1.0846 - acc: 0.4062 - val_loss: 1.0585 - val_acc: 0.4450\n",
            "Epoch 2/250\n",
            "800/800 [==============================] - 0s 320us/step - loss: 1.0220 - acc: 0.4175 - val_loss: 1.0216 - val_acc: 0.4500\n",
            "Epoch 3/250\n",
            "800/800 [==============================] - 0s 311us/step - loss: 0.8390 - acc: 0.6550 - val_loss: 0.9261 - val_acc: 0.5600\n",
            "Epoch 4/250\n",
            "800/800 [==============================] - 0s 323us/step - loss: 0.4892 - acc: 0.8788 - val_loss: 0.8637 - val_acc: 0.6000\n",
            "Epoch 5/250\n",
            "800/800 [==============================] - 0s 313us/step - loss: 0.2324 - acc: 0.9375 - val_loss: 0.9782 - val_acc: 0.6100\n",
            "Epoch 6/250\n",
            "800/800 [==============================] - 0s 311us/step - loss: 0.1157 - acc: 0.9788 - val_loss: 1.1040 - val_acc: 0.6000\n",
            "Epoch 7/250\n",
            "800/800 [==============================] - 0s 299us/step - loss: 0.0589 - acc: 0.9950 - val_loss: 1.2187 - val_acc: 0.6050\n",
            "Epoch 8/250\n",
            "800/800 [==============================] - 0s 303us/step - loss: 0.0396 - acc: 0.9962 - val_loss: 1.3214 - val_acc: 0.6200\n",
            "Epoch 9/250\n",
            "800/800 [==============================] - 0s 315us/step - loss: 0.0258 - acc: 0.9962 - val_loss: 1.4243 - val_acc: 0.6050\n",
            "Epoch 10/250\n",
            "800/800 [==============================] - 0s 298us/step - loss: 0.0172 - acc: 1.0000 - val_loss: 1.4883 - val_acc: 0.6200\n",
            "Epoch 11/250\n",
            "800/800 [==============================] - 0s 311us/step - loss: 0.0169 - acc: 0.9975 - val_loss: 1.5401 - val_acc: 0.5950\n",
            "Epoch 12/250\n",
            "800/800 [==============================] - 0s 325us/step - loss: 0.0111 - acc: 1.0000 - val_loss: 1.6124 - val_acc: 0.6150\n",
            "Epoch 13/250\n",
            "800/800 [==============================] - 0s 313us/step - loss: 0.0106 - acc: 0.9988 - val_loss: 1.6469 - val_acc: 0.6250\n",
            "Epoch 14/250\n",
            "800/800 [==============================] - 0s 311us/step - loss: 0.0090 - acc: 0.9988 - val_loss: 1.6858 - val_acc: 0.6050\n",
            "Epoch 15/250\n",
            "800/800 [==============================] - 0s 317us/step - loss: 0.0053 - acc: 1.0000 - val_loss: 1.7243 - val_acc: 0.6250\n",
            "Epoch 16/250\n",
            "800/800 [==============================] - 0s 305us/step - loss: 0.0055 - acc: 1.0000 - val_loss: 1.7789 - val_acc: 0.6150\n",
            "Epoch 17/250\n",
            "800/800 [==============================] - 0s 331us/step - loss: 0.0046 - acc: 1.0000 - val_loss: 1.8336 - val_acc: 0.6200\n",
            "Epoch 18/250\n",
            "800/800 [==============================] - 0s 318us/step - loss: 0.0044 - acc: 1.0000 - val_loss: 1.8642 - val_acc: 0.6150\n",
            "Epoch 19/250\n",
            "800/800 [==============================] - 0s 299us/step - loss: 0.0028 - acc: 1.0000 - val_loss: 1.8936 - val_acc: 0.6200\n",
            "Epoch 20/250\n",
            "800/800 [==============================] - 0s 337us/step - loss: 0.0024 - acc: 1.0000 - val_loss: 1.9323 - val_acc: 0.6100\n",
            "Epoch 21/250\n",
            "800/800 [==============================] - 0s 306us/step - loss: 0.0021 - acc: 1.0000 - val_loss: 1.9464 - val_acc: 0.6200\n",
            "Epoch 22/250\n",
            "800/800 [==============================] - 0s 308us/step - loss: 0.0018 - acc: 1.0000 - val_loss: 1.9726 - val_acc: 0.6200\n",
            "Epoch 23/250\n",
            "800/800 [==============================] - 0s 306us/step - loss: 0.0019 - acc: 1.0000 - val_loss: 1.9998 - val_acc: 0.6250\n",
            "Epoch 24/250\n",
            "800/800 [==============================] - 0s 327us/step - loss: 0.0017 - acc: 1.0000 - val_loss: 2.0259 - val_acc: 0.6150\n",
            "Epoch 25/250\n",
            "800/800 [==============================] - 0s 306us/step - loss: 0.0018 - acc: 1.0000 - val_loss: 2.0433 - val_acc: 0.6150\n",
            "Epoch 26/250\n",
            "800/800 [==============================] - 0s 318us/step - loss: 0.0012 - acc: 1.0000 - val_loss: 2.0694 - val_acc: 0.6150\n",
            "Epoch 27/250\n",
            "800/800 [==============================] - 0s 307us/step - loss: 0.0015 - acc: 1.0000 - val_loss: 2.0917 - val_acc: 0.6150\n",
            "Epoch 28/250\n",
            "800/800 [==============================] - 0s 323us/step - loss: 0.0012 - acc: 1.0000 - val_loss: 2.1205 - val_acc: 0.6150\n",
            "Epoch 29/250\n",
            "800/800 [==============================] - 0s 313us/step - loss: 0.0012 - acc: 1.0000 - val_loss: 2.1440 - val_acc: 0.6150\n",
            "Epoch 30/250\n",
            "800/800 [==============================] - 0s 310us/step - loss: 0.0014 - acc: 1.0000 - val_loss: 2.1691 - val_acc: 0.6200\n",
            "Epoch 31/250\n",
            "800/800 [==============================] - 0s 304us/step - loss: 9.2714e-04 - acc: 1.0000 - val_loss: 2.1952 - val_acc: 0.6100\n",
            "Epoch 32/250\n",
            "800/800 [==============================] - 0s 325us/step - loss: 9.0218e-04 - acc: 1.0000 - val_loss: 2.2057 - val_acc: 0.6150\n",
            "Epoch 33/250\n",
            "800/800 [==============================] - 0s 316us/step - loss: 9.8245e-04 - acc: 1.0000 - val_loss: 2.2175 - val_acc: 0.6150\n",
            "Epoch 34/250\n",
            "800/800 [==============================] - 0s 304us/step - loss: 6.8632e-04 - acc: 1.0000 - val_loss: 2.2312 - val_acc: 0.6150\n",
            "Epoch 35/250\n",
            "800/800 [==============================] - 0s 319us/step - loss: 7.0388e-04 - acc: 1.0000 - val_loss: 2.2480 - val_acc: 0.6150\n",
            "Epoch 36/250\n",
            "800/800 [==============================] - 0s 307us/step - loss: 5.7450e-04 - acc: 1.0000 - val_loss: 2.2639 - val_acc: 0.6150\n",
            "Epoch 37/250\n",
            "800/800 [==============================] - 0s 304us/step - loss: 6.3602e-04 - acc: 1.0000 - val_loss: 2.2785 - val_acc: 0.6200\n",
            "Epoch 38/250\n",
            "800/800 [==============================] - 0s 308us/step - loss: 5.9259e-04 - acc: 1.0000 - val_loss: 2.2936 - val_acc: 0.6200\n",
            "Epoch 39/250\n",
            "800/800 [==============================] - 0s 312us/step - loss: 9.7845e-04 - acc: 1.0000 - val_loss: 2.3126 - val_acc: 0.6200\n",
            "Epoch 40/250\n",
            "800/800 [==============================] - 0s 310us/step - loss: 8.6884e-04 - acc: 1.0000 - val_loss: 2.3403 - val_acc: 0.6200\n",
            "Epoch 41/250\n",
            "800/800 [==============================] - 0s 322us/step - loss: 5.0803e-04 - acc: 1.0000 - val_loss: 2.3540 - val_acc: 0.6200\n",
            "Epoch 42/250\n",
            "800/800 [==============================] - 0s 306us/step - loss: 7.3318e-04 - acc: 1.0000 - val_loss: 2.3545 - val_acc: 0.6100\n",
            "Epoch 43/250\n",
            "800/800 [==============================] - 0s 298us/step - loss: 4.0461e-04 - acc: 1.0000 - val_loss: 2.3720 - val_acc: 0.6100\n",
            "Epoch 44/250\n",
            "800/800 [==============================] - 0s 315us/step - loss: 3.5114e-04 - acc: 1.0000 - val_loss: 2.3840 - val_acc: 0.6100\n",
            "Epoch 45/250\n",
            "800/800 [==============================] - 0s 306us/step - loss: 4.7978e-04 - acc: 1.0000 - val_loss: 2.3995 - val_acc: 0.6150\n",
            "Epoch 46/250\n",
            "800/800 [==============================] - 0s 296us/step - loss: 4.3300e-04 - acc: 1.0000 - val_loss: 2.4085 - val_acc: 0.6200\n",
            "Epoch 47/250\n",
            "800/800 [==============================] - 0s 320us/step - loss: 3.8276e-04 - acc: 1.0000 - val_loss: 2.4251 - val_acc: 0.6100\n",
            "Epoch 48/250\n",
            "800/800 [==============================] - 0s 302us/step - loss: 3.8508e-04 - acc: 1.0000 - val_loss: 2.4307 - val_acc: 0.6100\n",
            "Epoch 49/250\n",
            "800/800 [==============================] - 0s 303us/step - loss: 4.5042e-04 - acc: 1.0000 - val_loss: 2.4406 - val_acc: 0.6150\n",
            "Epoch 50/250\n",
            "800/800 [==============================] - 0s 302us/step - loss: 3.3364e-04 - acc: 1.0000 - val_loss: 2.4476 - val_acc: 0.6150\n",
            "Epoch 51/250\n",
            "800/800 [==============================] - 0s 296us/step - loss: 2.5915e-04 - acc: 1.0000 - val_loss: 2.4625 - val_acc: 0.6150\n",
            "Epoch 52/250\n",
            "800/800 [==============================] - 0s 306us/step - loss: 2.7335e-04 - acc: 1.0000 - val_loss: 2.4772 - val_acc: 0.6150\n",
            "Epoch 53/250\n",
            "800/800 [==============================] - 0s 314us/step - loss: 3.4480e-04 - acc: 1.0000 - val_loss: 2.4913 - val_acc: 0.6050\n",
            "Epoch 54/250\n",
            "800/800 [==============================] - 0s 296us/step - loss: 2.3769e-04 - acc: 1.0000 - val_loss: 2.4963 - val_acc: 0.6150\n",
            "Epoch 55/250\n",
            "800/800 [==============================] - 0s 310us/step - loss: 2.5202e-04 - acc: 1.0000 - val_loss: 2.5043 - val_acc: 0.6150\n",
            "Epoch 56/250\n",
            "800/800 [==============================] - 0s 299us/step - loss: 2.7679e-04 - acc: 1.0000 - val_loss: 2.5161 - val_acc: 0.6150\n",
            "Epoch 57/250\n",
            "800/800 [==============================] - 0s 293us/step - loss: 2.9081e-04 - acc: 1.0000 - val_loss: 2.5239 - val_acc: 0.6100\n",
            "Epoch 58/250\n",
            "800/800 [==============================] - 0s 286us/step - loss: 1.8345e-04 - acc: 1.0000 - val_loss: 2.5324 - val_acc: 0.6100\n",
            "Epoch 59/250\n",
            "800/800 [==============================] - 0s 297us/step - loss: 2.1913e-04 - acc: 1.0000 - val_loss: 2.5433 - val_acc: 0.6100\n",
            "Epoch 60/250\n",
            "800/800 [==============================] - 0s 298us/step - loss: 2.8254e-04 - acc: 1.0000 - val_loss: 2.5564 - val_acc: 0.6100\n",
            "Epoch 61/250\n",
            "800/800 [==============================] - 0s 307us/step - loss: 2.8847e-04 - acc: 1.0000 - val_loss: 2.5680 - val_acc: 0.6100\n",
            "Epoch 62/250\n",
            "800/800 [==============================] - 0s 299us/step - loss: 2.2469e-04 - acc: 1.0000 - val_loss: 2.5757 - val_acc: 0.6100\n",
            "Epoch 63/250\n",
            "800/800 [==============================] - 0s 299us/step - loss: 2.1988e-04 - acc: 1.0000 - val_loss: 2.5897 - val_acc: 0.6050\n",
            "Epoch 64/250\n",
            "800/800 [==============================] - 0s 314us/step - loss: 2.4040e-04 - acc: 1.0000 - val_loss: 2.5945 - val_acc: 0.6100\n",
            "Epoch 65/250\n",
            "800/800 [==============================] - 0s 318us/step - loss: 2.3157e-04 - acc: 1.0000 - val_loss: 2.5980 - val_acc: 0.6100\n",
            "Epoch 66/250\n",
            "800/800 [==============================] - 0s 298us/step - loss: 1.8000e-04 - acc: 1.0000 - val_loss: 2.6011 - val_acc: 0.6100\n",
            "Epoch 67/250\n",
            "800/800 [==============================] - 0s 302us/step - loss: 1.6314e-04 - acc: 1.0000 - val_loss: 2.6126 - val_acc: 0.6100\n",
            "Epoch 68/250\n",
            "800/800 [==============================] - 0s 298us/step - loss: 1.4257e-04 - acc: 1.0000 - val_loss: 2.6190 - val_acc: 0.6150\n",
            "Epoch 69/250\n",
            "800/800 [==============================] - 0s 300us/step - loss: 1.5806e-04 - acc: 1.0000 - val_loss: 2.6292 - val_acc: 0.6100\n",
            "Epoch 70/250\n",
            "800/800 [==============================] - 0s 296us/step - loss: 1.7091e-04 - acc: 1.0000 - val_loss: 2.6394 - val_acc: 0.6100\n",
            "Epoch 71/250\n",
            "800/800 [==============================] - 0s 296us/step - loss: 1.2433e-04 - acc: 1.0000 - val_loss: 2.6475 - val_acc: 0.6050\n",
            "Epoch 72/250\n",
            "800/800 [==============================] - 0s 294us/step - loss: 1.1579e-04 - acc: 1.0000 - val_loss: 2.6509 - val_acc: 0.6050\n",
            "Epoch 73/250\n",
            "800/800 [==============================] - 0s 302us/step - loss: 1.3077e-04 - acc: 1.0000 - val_loss: 2.6572 - val_acc: 0.6050\n",
            "Epoch 74/250\n",
            "800/800 [==============================] - 0s 303us/step - loss: 1.4265e-04 - acc: 1.0000 - val_loss: 2.6650 - val_acc: 0.6050\n",
            "Epoch 75/250\n",
            "800/800 [==============================] - 0s 290us/step - loss: 1.3887e-04 - acc: 1.0000 - val_loss: 2.6873 - val_acc: 0.6000\n",
            "Epoch 76/250\n",
            "800/800 [==============================] - 0s 313us/step - loss: 1.6551e-04 - acc: 1.0000 - val_loss: 2.6978 - val_acc: 0.6050\n",
            "Epoch 77/250\n",
            "800/800 [==============================] - 0s 294us/step - loss: 1.5082e-04 - acc: 1.0000 - val_loss: 2.7064 - val_acc: 0.6100\n",
            "Epoch 78/250\n",
            "800/800 [==============================] - 0s 303us/step - loss: 1.5199e-04 - acc: 1.0000 - val_loss: 2.7166 - val_acc: 0.6100\n",
            "Epoch 79/250\n",
            "800/800 [==============================] - 0s 306us/step - loss: 1.5739e-04 - acc: 1.0000 - val_loss: 2.7274 - val_acc: 0.6100\n",
            "Epoch 80/250\n",
            "800/800 [==============================] - 0s 306us/step - loss: 2.4893e-04 - acc: 1.0000 - val_loss: 2.7444 - val_acc: 0.6000\n",
            "Epoch 81/250\n",
            "800/800 [==============================] - 0s 310us/step - loss: 1.3609e-04 - acc: 1.0000 - val_loss: 2.7517 - val_acc: 0.6000\n",
            "Epoch 82/250\n",
            "800/800 [==============================] - 0s 318us/step - loss: 1.6533e-04 - acc: 1.0000 - val_loss: 2.7729 - val_acc: 0.5950\n",
            "Epoch 83/250\n",
            "800/800 [==============================] - 0s 299us/step - loss: 1.0649e-04 - acc: 1.0000 - val_loss: 2.7857 - val_acc: 0.5950\n",
            "Epoch 84/250\n",
            "800/800 [==============================] - 0s 304us/step - loss: 1.5577e-04 - acc: 1.0000 - val_loss: 2.7907 - val_acc: 0.6000\n",
            "Epoch 85/250\n",
            "800/800 [==============================] - 0s 305us/step - loss: 1.1115e-04 - acc: 1.0000 - val_loss: 2.7935 - val_acc: 0.6050\n",
            "Epoch 86/250\n",
            "800/800 [==============================] - 0s 306us/step - loss: 1.2971e-04 - acc: 1.0000 - val_loss: 2.7969 - val_acc: 0.6050\n",
            "Epoch 87/250\n",
            "800/800 [==============================] - 0s 306us/step - loss: 1.0326e-04 - acc: 1.0000 - val_loss: 2.8038 - val_acc: 0.6050\n",
            "Epoch 88/250\n",
            "800/800 [==============================] - 0s 332us/step - loss: 1.0448e-04 - acc: 1.0000 - val_loss: 2.8132 - val_acc: 0.6050\n",
            "Epoch 89/250\n",
            "800/800 [==============================] - 0s 304us/step - loss: 7.7848e-05 - acc: 1.0000 - val_loss: 2.8210 - val_acc: 0.6050\n",
            "Epoch 90/250\n",
            "800/800 [==============================] - 0s 308us/step - loss: 6.2885e-05 - acc: 1.0000 - val_loss: 2.8257 - val_acc: 0.6050\n",
            "Epoch 91/250\n",
            "800/800 [==============================] - 0s 309us/step - loss: 9.6413e-05 - acc: 1.0000 - val_loss: 2.8318 - val_acc: 0.6050\n",
            "Epoch 92/250\n",
            "800/800 [==============================] - 0s 328us/step - loss: 8.3088e-05 - acc: 1.0000 - val_loss: 2.8405 - val_acc: 0.6000\n",
            "Epoch 93/250\n",
            "800/800 [==============================] - 0s 333us/step - loss: 9.6855e-05 - acc: 1.0000 - val_loss: 2.8505 - val_acc: 0.6000\n",
            "Epoch 94/250\n",
            "800/800 [==============================] - 0s 311us/step - loss: 1.2008e-04 - acc: 1.0000 - val_loss: 2.8561 - val_acc: 0.6000\n",
            "Epoch 95/250\n",
            "800/800 [==============================] - 0s 308us/step - loss: 5.5920e-05 - acc: 1.0000 - val_loss: 2.8618 - val_acc: 0.6000\n",
            "Epoch 96/250\n",
            "800/800 [==============================] - 0s 310us/step - loss: 8.3765e-05 - acc: 1.0000 - val_loss: 2.8711 - val_acc: 0.6050\n",
            "Epoch 97/250\n",
            "800/800 [==============================] - 0s 306us/step - loss: 6.1303e-05 - acc: 1.0000 - val_loss: 2.8772 - val_acc: 0.6050\n",
            "Epoch 98/250\n",
            "800/800 [==============================] - 0s 308us/step - loss: 6.2613e-05 - acc: 1.0000 - val_loss: 2.8775 - val_acc: 0.6000\n",
            "Epoch 99/250\n",
            "800/800 [==============================] - 0s 311us/step - loss: 6.2153e-05 - acc: 1.0000 - val_loss: 2.8830 - val_acc: 0.6000\n",
            "Epoch 100/250\n",
            "800/800 [==============================] - 0s 300us/step - loss: 8.0105e-05 - acc: 1.0000 - val_loss: 2.8899 - val_acc: 0.6000\n",
            "Epoch 101/250\n",
            "800/800 [==============================] - 0s 322us/step - loss: 5.0142e-05 - acc: 1.0000 - val_loss: 2.8978 - val_acc: 0.6100\n",
            "Epoch 102/250\n",
            "800/800 [==============================] - 0s 316us/step - loss: 5.5196e-05 - acc: 1.0000 - val_loss: 2.9006 - val_acc: 0.6100\n",
            "Epoch 103/250\n",
            "800/800 [==============================] - 0s 331us/step - loss: 4.8871e-05 - acc: 1.0000 - val_loss: 2.9063 - val_acc: 0.6050\n",
            "Epoch 104/250\n",
            "800/800 [==============================] - 0s 316us/step - loss: 5.4256e-05 - acc: 1.0000 - val_loss: 2.9122 - val_acc: 0.6100\n",
            "Epoch 105/250\n",
            "800/800 [==============================] - 0s 323us/step - loss: 5.9530e-05 - acc: 1.0000 - val_loss: 2.9158 - val_acc: 0.6050\n",
            "Epoch 106/250\n",
            "800/800 [==============================] - 0s 316us/step - loss: 5.7845e-05 - acc: 1.0000 - val_loss: 2.9226 - val_acc: 0.6050\n",
            "Epoch 107/250\n",
            "800/800 [==============================] - 0s 305us/step - loss: 7.7541e-05 - acc: 1.0000 - val_loss: 2.9316 - val_acc: 0.6100\n",
            "Epoch 108/250\n",
            "800/800 [==============================] - 0s 304us/step - loss: 5.7580e-05 - acc: 1.0000 - val_loss: 2.9414 - val_acc: 0.6050\n",
            "Epoch 109/250\n",
            "800/800 [==============================] - 0s 308us/step - loss: 4.6069e-05 - acc: 1.0000 - val_loss: 2.9466 - val_acc: 0.6000\n",
            "Epoch 110/250\n",
            "800/800 [==============================] - 0s 309us/step - loss: 4.5430e-05 - acc: 1.0000 - val_loss: 2.9529 - val_acc: 0.6050\n",
            "Epoch 111/250\n",
            "800/800 [==============================] - 0s 298us/step - loss: 5.2229e-05 - acc: 1.0000 - val_loss: 2.9596 - val_acc: 0.6050\n",
            "Epoch 112/250\n",
            "800/800 [==============================] - 0s 299us/step - loss: 4.9694e-05 - acc: 1.0000 - val_loss: 2.9629 - val_acc: 0.6050\n",
            "Epoch 113/250\n",
            "800/800 [==============================] - 0s 309us/step - loss: 4.2185e-05 - acc: 1.0000 - val_loss: 2.9697 - val_acc: 0.6100\n",
            "Epoch 114/250\n",
            "800/800 [==============================] - 0s 311us/step - loss: 6.2921e-05 - acc: 1.0000 - val_loss: 2.9768 - val_acc: 0.6100\n",
            "Epoch 115/250\n",
            "800/800 [==============================] - 0s 320us/step - loss: 3.9990e-05 - acc: 1.0000 - val_loss: 2.9799 - val_acc: 0.6000\n",
            "Epoch 116/250\n",
            "800/800 [==============================] - 0s 309us/step - loss: 6.3179e-05 - acc: 1.0000 - val_loss: 2.9837 - val_acc: 0.6050\n",
            "Epoch 117/250\n",
            "800/800 [==============================] - 0s 315us/step - loss: 4.5724e-05 - acc: 1.0000 - val_loss: 2.9901 - val_acc: 0.6050\n",
            "Epoch 118/250\n",
            "800/800 [==============================] - 0s 308us/step - loss: 4.7512e-05 - acc: 1.0000 - val_loss: 2.9903 - val_acc: 0.6050\n",
            "Epoch 119/250\n",
            "800/800 [==============================] - 0s 301us/step - loss: 3.9558e-05 - acc: 1.0000 - val_loss: 2.9940 - val_acc: 0.6100\n",
            "Epoch 120/250\n",
            "800/800 [==============================] - 0s 301us/step - loss: 6.3028e-05 - acc: 1.0000 - val_loss: 3.0008 - val_acc: 0.6050\n",
            "Epoch 121/250\n",
            "800/800 [==============================] - 0s 306us/step - loss: 7.8183e-05 - acc: 1.0000 - val_loss: 2.9899 - val_acc: 0.6000\n",
            "Epoch 122/250\n",
            "800/800 [==============================] - 0s 325us/step - loss: 4.6271e-05 - acc: 1.0000 - val_loss: 2.9865 - val_acc: 0.6000\n",
            "Epoch 123/250\n",
            "800/800 [==============================] - 0s 319us/step - loss: 4.2348e-05 - acc: 1.0000 - val_loss: 2.9937 - val_acc: 0.6050\n",
            "Epoch 124/250\n",
            "800/800 [==============================] - 0s 307us/step - loss: 5.1682e-05 - acc: 1.0000 - val_loss: 2.9981 - val_acc: 0.6000\n",
            "Epoch 125/250\n",
            "800/800 [==============================] - 0s 323us/step - loss: 5.3105e-05 - acc: 1.0000 - val_loss: 3.0035 - val_acc: 0.6050\n",
            "Epoch 126/250\n",
            "800/800 [==============================] - 0s 306us/step - loss: 2.8989e-05 - acc: 1.0000 - val_loss: 3.0119 - val_acc: 0.6050\n",
            "Epoch 127/250\n",
            "800/800 [==============================] - 0s 307us/step - loss: 3.1922e-05 - acc: 1.0000 - val_loss: 3.0185 - val_acc: 0.6050\n",
            "Epoch 128/250\n",
            "800/800 [==============================] - 0s 303us/step - loss: 3.3823e-05 - acc: 1.0000 - val_loss: 3.0240 - val_acc: 0.6050\n",
            "Epoch 129/250\n",
            "800/800 [==============================] - 0s 331us/step - loss: 5.6000e-05 - acc: 1.0000 - val_loss: 3.0273 - val_acc: 0.6050\n",
            "Epoch 130/250\n",
            "800/800 [==============================] - 0s 317us/step - loss: 7.1003e-05 - acc: 1.0000 - val_loss: 3.0394 - val_acc: 0.6000\n",
            "Epoch 131/250\n",
            "800/800 [==============================] - 0s 309us/step - loss: 3.9594e-05 - acc: 1.0000 - val_loss: 3.0418 - val_acc: 0.6050\n",
            "Epoch 132/250\n",
            "800/800 [==============================] - 0s 304us/step - loss: 4.6889e-05 - acc: 1.0000 - val_loss: 3.0517 - val_acc: 0.6050\n",
            "Epoch 133/250\n",
            "800/800 [==============================] - 0s 330us/step - loss: 3.0685e-05 - acc: 1.0000 - val_loss: 3.0571 - val_acc: 0.6050\n",
            "Epoch 134/250\n",
            "800/800 [==============================] - 0s 308us/step - loss: 5.1623e-05 - acc: 1.0000 - val_loss: 3.0559 - val_acc: 0.6050\n",
            "Epoch 135/250\n",
            "800/800 [==============================] - 0s 300us/step - loss: 3.5228e-05 - acc: 1.0000 - val_loss: 3.0604 - val_acc: 0.6050\n",
            "Epoch 136/250\n",
            "800/800 [==============================] - 0s 316us/step - loss: 2.4604e-05 - acc: 1.0000 - val_loss: 3.0649 - val_acc: 0.6050\n",
            "Epoch 137/250\n",
            "800/800 [==============================] - 0s 305us/step - loss: 4.7555e-05 - acc: 1.0000 - val_loss: 3.0702 - val_acc: 0.6050\n",
            "Epoch 138/250\n",
            "800/800 [==============================] - 0s 319us/step - loss: 2.7543e-05 - acc: 1.0000 - val_loss: 3.0747 - val_acc: 0.6000\n",
            "Epoch 139/250\n",
            "800/800 [==============================] - 0s 313us/step - loss: 3.4581e-05 - acc: 1.0000 - val_loss: 3.0742 - val_acc: 0.6100\n",
            "Epoch 140/250\n",
            "800/800 [==============================] - 0s 309us/step - loss: 4.2797e-05 - acc: 1.0000 - val_loss: 3.0781 - val_acc: 0.6050\n",
            "Epoch 141/250\n",
            "800/800 [==============================] - 0s 321us/step - loss: 3.3146e-05 - acc: 1.0000 - val_loss: 3.0831 - val_acc: 0.6050\n",
            "Epoch 142/250\n",
            "800/800 [==============================] - 0s 312us/step - loss: 2.1845e-05 - acc: 1.0000 - val_loss: 3.0916 - val_acc: 0.6050\n",
            "Epoch 143/250\n",
            "800/800 [==============================] - 0s 304us/step - loss: 2.6270e-05 - acc: 1.0000 - val_loss: 3.1002 - val_acc: 0.6050\n",
            "Epoch 144/250\n",
            "800/800 [==============================] - 0s 301us/step - loss: 3.5150e-05 - acc: 1.0000 - val_loss: 3.1030 - val_acc: 0.6050\n",
            "Epoch 145/250\n",
            "800/800 [==============================] - 0s 308us/step - loss: 3.8930e-05 - acc: 1.0000 - val_loss: 3.1070 - val_acc: 0.6050\n",
            "Epoch 146/250\n",
            "800/800 [==============================] - 0s 313us/step - loss: 3.8935e-05 - acc: 1.0000 - val_loss: 3.1102 - val_acc: 0.6050\n",
            "Epoch 147/250\n",
            "800/800 [==============================] - 0s 304us/step - loss: 2.1234e-05 - acc: 1.0000 - val_loss: 3.1128 - val_acc: 0.6050\n",
            "Epoch 148/250\n",
            "800/800 [==============================] - 0s 311us/step - loss: 2.9595e-05 - acc: 1.0000 - val_loss: 3.1168 - val_acc: 0.6050\n",
            "Epoch 149/250\n",
            "800/800 [==============================] - 0s 322us/step - loss: 3.4316e-05 - acc: 1.0000 - val_loss: 3.1251 - val_acc: 0.6100\n",
            "Epoch 150/250\n",
            "800/800 [==============================] - 0s 302us/step - loss: 1.7256e-05 - acc: 1.0000 - val_loss: 3.1287 - val_acc: 0.6050\n",
            "Epoch 151/250\n",
            "800/800 [==============================] - 0s 297us/step - loss: 3.1584e-05 - acc: 1.0000 - val_loss: 3.1334 - val_acc: 0.6050\n",
            "Epoch 152/250\n",
            "800/800 [==============================] - 0s 297us/step - loss: 2.8928e-05 - acc: 1.0000 - val_loss: 3.1426 - val_acc: 0.6100\n",
            "Epoch 153/250\n",
            "800/800 [==============================] - 0s 305us/step - loss: 2.3737e-05 - acc: 1.0000 - val_loss: 3.1482 - val_acc: 0.6100\n",
            "Epoch 154/250\n",
            "800/800 [==============================] - 0s 296us/step - loss: 2.7876e-05 - acc: 1.0000 - val_loss: 3.1528 - val_acc: 0.6100\n",
            "Epoch 155/250\n",
            "800/800 [==============================] - 0s 299us/step - loss: 2.1644e-05 - acc: 1.0000 - val_loss: 3.1577 - val_acc: 0.6100\n",
            "Epoch 156/250\n",
            "800/800 [==============================] - 0s 303us/step - loss: 8.5801e-05 - acc: 1.0000 - val_loss: 3.1760 - val_acc: 0.5950\n",
            "Epoch 157/250\n",
            "800/800 [==============================] - 0s 312us/step - loss: 0.0053 - acc: 0.9988 - val_loss: 3.1820 - val_acc: 0.6050\n",
            "Epoch 158/250\n",
            "800/800 [==============================] - 0s 306us/step - loss: 0.0243 - acc: 0.9962 - val_loss: 2.9972 - val_acc: 0.6050\n",
            "Epoch 159/250\n",
            "800/800 [==============================] - 0s 317us/step - loss: 0.1387 - acc: 0.9650 - val_loss: 2.8752 - val_acc: 0.5950\n",
            "Epoch 160/250\n",
            "800/800 [==============================] - 0s 303us/step - loss: 0.1458 - acc: 0.9575 - val_loss: 2.6323 - val_acc: 0.5900\n",
            "Epoch 161/250\n",
            "800/800 [==============================] - 0s 303us/step - loss: 0.1207 - acc: 0.9688 - val_loss: 2.4052 - val_acc: 0.5850\n",
            "Epoch 162/250\n",
            "800/800 [==============================] - 0s 313us/step - loss: 0.0401 - acc: 0.9800 - val_loss: 2.4725 - val_acc: 0.5800\n",
            "Epoch 163/250\n",
            "800/800 [==============================] - 0s 300us/step - loss: 0.0214 - acc: 0.9937 - val_loss: 2.5745 - val_acc: 0.5850\n",
            "Epoch 164/250\n",
            "800/800 [==============================] - 0s 303us/step - loss: 0.0150 - acc: 0.9937 - val_loss: 2.5890 - val_acc: 0.6100\n",
            "Epoch 165/250\n",
            "800/800 [==============================] - 0s 318us/step - loss: 0.0065 - acc: 0.9988 - val_loss: 2.6386 - val_acc: 0.5950\n",
            "Epoch 166/250\n",
            "800/800 [==============================] - 0s 305us/step - loss: 0.0045 - acc: 0.9988 - val_loss: 2.7255 - val_acc: 0.6100\n",
            "Epoch 167/250\n",
            "800/800 [==============================] - 0s 299us/step - loss: 0.0022 - acc: 1.0000 - val_loss: 2.7822 - val_acc: 0.6150\n",
            "Epoch 168/250\n",
            "800/800 [==============================] - 0s 294us/step - loss: 0.0012 - acc: 1.0000 - val_loss: 2.8169 - val_acc: 0.6150\n",
            "Epoch 169/250\n",
            "800/800 [==============================] - 0s 311us/step - loss: 8.6266e-04 - acc: 1.0000 - val_loss: 2.8487 - val_acc: 0.6150\n",
            "Epoch 170/250\n",
            "800/800 [==============================] - 0s 302us/step - loss: 0.0010 - acc: 1.0000 - val_loss: 2.8744 - val_acc: 0.6150\n",
            "Epoch 171/250\n",
            "800/800 [==============================] - 0s 301us/step - loss: 7.6998e-04 - acc: 1.0000 - val_loss: 2.8991 - val_acc: 0.6150\n",
            "Epoch 172/250\n",
            "800/800 [==============================] - 0s 305us/step - loss: 7.1599e-04 - acc: 1.0000 - val_loss: 2.9246 - val_acc: 0.6150\n",
            "Epoch 173/250\n",
            "800/800 [==============================] - 0s 306us/step - loss: 7.0231e-04 - acc: 1.0000 - val_loss: 2.9465 - val_acc: 0.6150\n",
            "Epoch 174/250\n",
            "800/800 [==============================] - 0s 310us/step - loss: 0.0010 - acc: 1.0000 - val_loss: 2.9714 - val_acc: 0.6150\n",
            "Epoch 175/250\n",
            "800/800 [==============================] - 0s 305us/step - loss: 7.6833e-04 - acc: 1.0000 - val_loss: 2.9776 - val_acc: 0.6150\n",
            "Epoch 176/250\n",
            "800/800 [==============================] - 0s 301us/step - loss: 8.2804e-04 - acc: 1.0000 - val_loss: 3.0082 - val_acc: 0.6150\n",
            "Epoch 177/250\n",
            "800/800 [==============================] - 0s 307us/step - loss: 4.2001e-04 - acc: 1.0000 - val_loss: 3.0322 - val_acc: 0.6150\n",
            "Epoch 178/250\n",
            "800/800 [==============================] - 0s 305us/step - loss: 6.5961e-04 - acc: 1.0000 - val_loss: 3.0565 - val_acc: 0.6150\n",
            "Epoch 179/250\n",
            "800/800 [==============================] - 0s 297us/step - loss: 3.3422e-04 - acc: 1.0000 - val_loss: 3.0716 - val_acc: 0.6150\n",
            "Epoch 180/250\n",
            "800/800 [==============================] - 0s 294us/step - loss: 5.3210e-04 - acc: 1.0000 - val_loss: 3.0879 - val_acc: 0.6100\n",
            "Epoch 181/250\n",
            "800/800 [==============================] - 0s 303us/step - loss: 3.7031e-04 - acc: 1.0000 - val_loss: 3.1067 - val_acc: 0.6100\n",
            "Epoch 182/250\n",
            "800/800 [==============================] - 0s 296us/step - loss: 4.1912e-04 - acc: 1.0000 - val_loss: 3.1348 - val_acc: 0.6200\n",
            "Epoch 183/250\n",
            "800/800 [==============================] - 0s 297us/step - loss: 3.4819e-04 - acc: 1.0000 - val_loss: 3.1505 - val_acc: 0.6150\n",
            "Epoch 184/250\n",
            "800/800 [==============================] - 0s 294us/step - loss: 4.4127e-04 - acc: 1.0000 - val_loss: 3.1703 - val_acc: 0.6150\n",
            "Epoch 185/250\n",
            "800/800 [==============================] - 0s 300us/step - loss: 3.9388e-04 - acc: 1.0000 - val_loss: 3.1905 - val_acc: 0.6150\n",
            "Epoch 186/250\n",
            "800/800 [==============================] - 0s 299us/step - loss: 2.7578e-04 - acc: 1.0000 - val_loss: 3.2000 - val_acc: 0.6150\n",
            "Epoch 187/250\n",
            "800/800 [==============================] - 0s 295us/step - loss: 4.0455e-04 - acc: 1.0000 - val_loss: 3.2019 - val_acc: 0.6100\n",
            "Epoch 188/250\n",
            "800/800 [==============================] - 0s 305us/step - loss: 2.3751e-04 - acc: 1.0000 - val_loss: 3.2132 - val_acc: 0.6150\n",
            "Epoch 189/250\n",
            "800/800 [==============================] - 0s 324us/step - loss: 2.0389e-04 - acc: 1.0000 - val_loss: 3.2247 - val_acc: 0.6150\n",
            "Epoch 190/250\n",
            "800/800 [==============================] - 0s 315us/step - loss: 3.2702e-04 - acc: 1.0000 - val_loss: 3.2384 - val_acc: 0.6150\n",
            "Epoch 191/250\n",
            "800/800 [==============================] - 0s 324us/step - loss: 3.2368e-04 - acc: 1.0000 - val_loss: 3.2514 - val_acc: 0.6150\n",
            "Epoch 192/250\n",
            "800/800 [==============================] - 0s 299us/step - loss: 2.2157e-04 - acc: 1.0000 - val_loss: 3.2634 - val_acc: 0.6100\n",
            "Epoch 193/250\n",
            "800/800 [==============================] - 0s 299us/step - loss: 2.0188e-04 - acc: 1.0000 - val_loss: 3.2726 - val_acc: 0.6150\n",
            "Epoch 194/250\n",
            "800/800 [==============================] - 0s 307us/step - loss: 2.5705e-04 - acc: 1.0000 - val_loss: 3.2760 - val_acc: 0.6150\n",
            "Epoch 195/250\n",
            "800/800 [==============================] - 0s 303us/step - loss: 2.1707e-04 - acc: 1.0000 - val_loss: 3.2862 - val_acc: 0.6100\n",
            "Epoch 196/250\n",
            "800/800 [==============================] - 0s 295us/step - loss: 2.2396e-04 - acc: 1.0000 - val_loss: 3.2932 - val_acc: 0.6150\n",
            "Epoch 197/250\n",
            "800/800 [==============================] - 0s 318us/step - loss: 1.8013e-04 - acc: 1.0000 - val_loss: 3.3054 - val_acc: 0.6150\n",
            "Epoch 198/250\n",
            "800/800 [==============================] - 0s 322us/step - loss: 1.9450e-04 - acc: 1.0000 - val_loss: 3.3113 - val_acc: 0.6100\n",
            "Epoch 199/250\n",
            "800/800 [==============================] - 0s 298us/step - loss: 1.7047e-04 - acc: 1.0000 - val_loss: 3.3210 - val_acc: 0.6100\n",
            "Epoch 200/250\n",
            "800/800 [==============================] - 0s 319us/step - loss: 1.3579e-04 - acc: 1.0000 - val_loss: 3.3277 - val_acc: 0.6100\n",
            "Epoch 201/250\n",
            "800/800 [==============================] - 0s 310us/step - loss: 1.7691e-04 - acc: 1.0000 - val_loss: 3.3388 - val_acc: 0.6100\n",
            "Epoch 202/250\n",
            "800/800 [==============================] - 0s 301us/step - loss: 1.4164e-04 - acc: 1.0000 - val_loss: 3.3458 - val_acc: 0.6100\n",
            "Epoch 203/250\n",
            "800/800 [==============================] - 0s 295us/step - loss: 1.9300e-04 - acc: 1.0000 - val_loss: 3.3541 - val_acc: 0.6100\n",
            "Epoch 204/250\n",
            "800/800 [==============================] - 0s 293us/step - loss: 1.0552e-04 - acc: 1.0000 - val_loss: 3.3614 - val_acc: 0.6100\n",
            "Epoch 205/250\n",
            "800/800 [==============================] - 0s 298us/step - loss: 1.6596e-04 - acc: 1.0000 - val_loss: 3.3704 - val_acc: 0.6150\n",
            "Epoch 206/250\n",
            "800/800 [==============================] - 0s 305us/step - loss: 1.4684e-04 - acc: 1.0000 - val_loss: 3.3781 - val_acc: 0.6100\n",
            "Epoch 207/250\n",
            "800/800 [==============================] - 0s 308us/step - loss: 8.2769e-05 - acc: 1.0000 - val_loss: 3.3842 - val_acc: 0.6100\n",
            "Epoch 208/250\n",
            "800/800 [==============================] - 0s 304us/step - loss: 1.0345e-04 - acc: 1.0000 - val_loss: 3.3910 - val_acc: 0.6150\n",
            "Epoch 209/250\n",
            "800/800 [==============================] - 0s 303us/step - loss: 7.1597e-04 - acc: 1.0000 - val_loss: 3.3804 - val_acc: 0.6050\n",
            "Epoch 210/250\n",
            "800/800 [==============================] - 0s 308us/step - loss: 1.6350e-04 - acc: 1.0000 - val_loss: 3.3805 - val_acc: 0.6100\n",
            "Epoch 211/250\n",
            "800/800 [==============================] - 0s 303us/step - loss: 1.4778e-04 - acc: 1.0000 - val_loss: 3.3882 - val_acc: 0.6150\n",
            "Epoch 212/250\n",
            "800/800 [==============================] - 0s 303us/step - loss: 1.3971e-04 - acc: 1.0000 - val_loss: 3.3946 - val_acc: 0.6100\n",
            "Epoch 213/250\n",
            "800/800 [==============================] - 0s 305us/step - loss: 1.6025e-04 - acc: 1.0000 - val_loss: 3.4012 - val_acc: 0.6200\n",
            "Epoch 214/250\n",
            "800/800 [==============================] - 0s 303us/step - loss: 1.2115e-04 - acc: 1.0000 - val_loss: 3.4057 - val_acc: 0.6250\n",
            "Epoch 215/250\n",
            "800/800 [==============================] - 0s 304us/step - loss: 1.2416e-04 - acc: 1.0000 - val_loss: 3.4146 - val_acc: 0.6200\n",
            "Epoch 216/250\n",
            "800/800 [==============================] - 0s 298us/step - loss: 1.0630e-04 - acc: 1.0000 - val_loss: 3.4251 - val_acc: 0.6200\n",
            "Epoch 217/250\n",
            "800/800 [==============================] - 0s 303us/step - loss: 1.4742e-04 - acc: 1.0000 - val_loss: 3.4314 - val_acc: 0.6200\n",
            "Epoch 218/250\n",
            "800/800 [==============================] - 0s 293us/step - loss: 1.3787e-04 - acc: 1.0000 - val_loss: 3.4391 - val_acc: 0.6200\n",
            "Epoch 219/250\n",
            "800/800 [==============================] - 0s 306us/step - loss: 9.8760e-05 - acc: 1.0000 - val_loss: 3.4482 - val_acc: 0.6200\n",
            "Epoch 220/250\n",
            "800/800 [==============================] - 0s 300us/step - loss: 7.4351e-05 - acc: 1.0000 - val_loss: 3.4545 - val_acc: 0.6200\n",
            "Epoch 221/250\n",
            "800/800 [==============================] - 0s 317us/step - loss: 1.1377e-04 - acc: 1.0000 - val_loss: 3.4614 - val_acc: 0.6200\n",
            "Epoch 222/250\n",
            "800/800 [==============================] - 0s 307us/step - loss: 8.8361e-05 - acc: 1.0000 - val_loss: 3.4681 - val_acc: 0.6200\n",
            "Epoch 223/250\n",
            "800/800 [==============================] - 0s 308us/step - loss: 1.1825e-04 - acc: 1.0000 - val_loss: 3.4734 - val_acc: 0.6150\n",
            "Epoch 224/250\n",
            "800/800 [==============================] - 0s 298us/step - loss: 1.5833e-04 - acc: 1.0000 - val_loss: 3.4819 - val_acc: 0.6150\n",
            "Epoch 225/250\n",
            "800/800 [==============================] - 0s 299us/step - loss: 1.0610e-04 - acc: 1.0000 - val_loss: 3.4929 - val_acc: 0.6150\n",
            "Epoch 226/250\n",
            "800/800 [==============================] - 0s 304us/step - loss: 8.8742e-05 - acc: 1.0000 - val_loss: 3.5001 - val_acc: 0.6150\n",
            "Epoch 227/250\n",
            "800/800 [==============================] - 0s 304us/step - loss: 6.5720e-05 - acc: 1.0000 - val_loss: 3.5071 - val_acc: 0.6150\n",
            "Epoch 228/250\n",
            "800/800 [==============================] - 0s 300us/step - loss: 8.6588e-05 - acc: 1.0000 - val_loss: 3.5140 - val_acc: 0.6150\n",
            "Epoch 229/250\n",
            "800/800 [==============================] - 0s 294us/step - loss: 8.2054e-05 - acc: 1.0000 - val_loss: 3.5194 - val_acc: 0.6150\n",
            "Epoch 230/250\n",
            "800/800 [==============================] - 0s 298us/step - loss: 1.4021e-04 - acc: 1.0000 - val_loss: 3.5275 - val_acc: 0.6150\n",
            "Epoch 231/250\n",
            "800/800 [==============================] - 0s 296us/step - loss: 6.4517e-05 - acc: 1.0000 - val_loss: 3.5360 - val_acc: 0.6150\n",
            "Epoch 232/250\n",
            "800/800 [==============================] - 0s 297us/step - loss: 7.6594e-05 - acc: 1.0000 - val_loss: 3.5407 - val_acc: 0.6150\n",
            "Epoch 233/250\n",
            "800/800 [==============================] - 0s 295us/step - loss: 5.4138e-05 - acc: 1.0000 - val_loss: 3.5487 - val_acc: 0.6150\n",
            "Epoch 234/250\n",
            "800/800 [==============================] - 0s 300us/step - loss: 6.6961e-05 - acc: 1.0000 - val_loss: 3.5545 - val_acc: 0.6150\n",
            "Epoch 235/250\n",
            "800/800 [==============================] - 0s 325us/step - loss: 4.7674e-05 - acc: 1.0000 - val_loss: 3.5578 - val_acc: 0.6150\n",
            "Epoch 236/250\n",
            "800/800 [==============================] - 0s 302us/step - loss: 7.0861e-05 - acc: 1.0000 - val_loss: 3.5634 - val_acc: 0.6150\n",
            "Epoch 237/250\n",
            "800/800 [==============================] - 0s 304us/step - loss: 6.6624e-05 - acc: 1.0000 - val_loss: 3.5712 - val_acc: 0.6150\n",
            "Epoch 238/250\n",
            "800/800 [==============================] - 0s 295us/step - loss: 7.2138e-05 - acc: 1.0000 - val_loss: 3.5742 - val_acc: 0.6150\n",
            "Epoch 239/250\n",
            "800/800 [==============================] - 0s 306us/step - loss: 3.7019e-05 - acc: 1.0000 - val_loss: 3.5797 - val_acc: 0.6150\n",
            "Epoch 240/250\n",
            "800/800 [==============================] - 0s 301us/step - loss: 6.2550e-05 - acc: 1.0000 - val_loss: 3.5869 - val_acc: 0.6150\n",
            "Epoch 241/250\n",
            "800/800 [==============================] - 0s 305us/step - loss: 7.5706e-05 - acc: 1.0000 - val_loss: 3.5927 - val_acc: 0.6150\n",
            "Epoch 242/250\n",
            "800/800 [==============================] - 0s 304us/step - loss: 6.3910e-05 - acc: 1.0000 - val_loss: 3.6006 - val_acc: 0.6150\n",
            "Epoch 243/250\n",
            "800/800 [==============================] - 0s 303us/step - loss: 5.0765e-05 - acc: 1.0000 - val_loss: 3.6041 - val_acc: 0.6150\n",
            "Epoch 244/250\n",
            "800/800 [==============================] - 0s 302us/step - loss: 4.0365e-05 - acc: 1.0000 - val_loss: 3.6092 - val_acc: 0.6150\n",
            "Epoch 245/250\n",
            "800/800 [==============================] - 0s 287us/step - loss: 4.7808e-05 - acc: 1.0000 - val_loss: 3.6140 - val_acc: 0.6150\n",
            "Epoch 246/250\n",
            "800/800 [==============================] - 0s 303us/step - loss: 9.3534e-05 - acc: 1.0000 - val_loss: 3.6215 - val_acc: 0.6150\n",
            "Epoch 247/250\n",
            "800/800 [==============================] - 0s 310us/step - loss: 4.4543e-05 - acc: 1.0000 - val_loss: 3.6288 - val_acc: 0.6150\n",
            "Epoch 248/250\n",
            "800/800 [==============================] - 0s 298us/step - loss: 5.4416e-05 - acc: 1.0000 - val_loss: 3.6347 - val_acc: 0.6150\n",
            "Epoch 249/250\n",
            "800/800 [==============================] - 0s 292us/step - loss: 7.0646e-05 - acc: 1.0000 - val_loss: 3.6406 - val_acc: 0.6150\n",
            "Epoch 250/250\n",
            "800/800 [==============================] - 0s 301us/step - loss: 5.6974e-05 - acc: 1.0000 - val_loss: 3.6475 - val_acc: 0.6150\n"
          ],
          "name": "stdout"
        }
      ]
    },
    {
      "metadata": {
        "id": "hL2xl1bW0h3n",
        "colab_type": "code",
        "colab": {}
      },
      "cell_type": "code",
      "source": [
        "# Let's plot our trainin process (we actually can look what happened as we were training)\n",
        "import matplotlib.pyplot as plt"
      ],
      "execution_count": 0,
      "outputs": []
    },
    {
      "metadata": {
        "id": "cPsKsTom0jRg",
        "colab_type": "code",
        "colab": {
          "base_uri": "https://localhost:8080/",
          "height": 734
        },
        "outputId": "f8078c17-9425-4135-801a-d82f1e141b0b"
      },
      "cell_type": "code",
      "source": [
        "# summarize history for accuracy\n",
        "plt.plot(history.history['acc'])\n",
        "plt.plot(history.history['val_acc'])\n",
        "plt.title('model accuracy')\n",
        "plt.ylabel('accuracy')\n",
        "plt.xlabel('epoch')\n",
        "plt.legend(['train', 'test'], loc='upper left')\n",
        "plt.show()\n",
        "# summarize history for loss\n",
        "plt.plot(history.history['loss'])\n",
        "plt.plot(history.history['val_loss'])\n",
        "plt.title('model loss')\n",
        "plt.ylabel('loss')\n",
        "plt.xlabel('epoch')\n",
        "plt.legend(['train', 'test'], loc='upper left')\n",
        "plt.show()"
      ],
      "execution_count": 38,
      "outputs": [
        {
          "output_type": "display_data",
          "data": {
            "image/png": "[encoded data removed]",
            "text/plain": [
              "<matplotlib.figure.Figure at 0x7f5a6af447b8>"
            ]
          },
          "metadata": {
            "tags": []
          }
        },
        {
          "output_type": "display_data",
          "data": {
            "image/png": "[encoded data removed]",
            "text/plain": [
              "<matplotlib.figure.Figure at 0x7f5a6af3a358>"
            ]
          },
          "metadata": {
            "tags": []
          }
        }
      ]
    },
    {
      "metadata": {
        "id": "QieNY5yU0lyk",
        "colab_type": "code",
        "colab": {
          "base_uri": "https://localhost:8080/",
          "height": 50
        },
        "outputId": "243a4c0e-7846-41c7-ae56-c7335aaf7a9c"
      },
      "cell_type": "code",
      "source": [
        "# How does it perform?\n",
        "\n",
        "classifier.evaluate(X_test,y_test)"
      ],
      "execution_count": 39,
      "outputs": [
        {
          "output_type": "stream",
          "text": [
            "200/200 [==============================] - 0s 140us/step\n"
          ],
          "name": "stdout"
        },
        {
          "output_type": "execute_result",
          "data": {
            "text/plain": [
              "[3.6474600791931153, 0.615]"
            ]
          },
          "metadata": {
            "tags": []
          },
          "execution_count": 39
        }
      ]
    },
    {
      "metadata": {
        "id": "HSW5D4zM0n1a",
        "colab_type": "code",
        "colab": {
          "base_uri": "https://localhost:8080/",
          "height": 152
        },
        "outputId": "8a4b1ffc-9bc6-4f61-b164-ab6078362000"
      },
      "cell_type": "code",
      "source": [
        "y_pred = model.predict(X_test)\n",
        "\n",
        "\n",
        "\n",
        "y_pred = np.argmax(y_pred, axis=1)\n",
        "y_test = np.argmax(y_test, axis=1)\n",
        "\n",
        "report = classification_report(y_test, y_pred)\n",
        "print(report)"
      ],
      "execution_count": 40,
      "outputs": [
        {
          "output_type": "stream",
          "text": [
            "             precision    recall  f1-score   support\n",
            "\n",
            "          0       0.51      0.28      0.36        89\n",
            "          1       0.28      0.41      0.34        51\n",
            "          2       0.32      0.42      0.36        60\n",
            "\n",
            "avg / total       0.40      0.35      0.36       200\n",
            "\n"
          ],
          "name": "stdout"
        }
      ]
    },
    {
      "metadata": {
        "id": "UVFkXuFu0p68",
        "colab_type": "code",
        "colab": {
          "base_uri": "https://localhost:8080/",
          "height": 258
        },
        "outputId": "46bd5c31-2206-4174-9518-6f1572130212"
      },
      "cell_type": "code",
      "source": [
        "# columns = predicted, rows = real\n",
        "\n",
        "# y_test.A.ravel() is weird: we need to transform it from a matrix to an array and then flatten it back to a 1D vector.\n",
        "pd.crosstab(labelencoder.inverse_transform(y_test.A.ravel()),labelencoder.inverse_transform(y_pred))"
      ],
      "execution_count": 41,
      "outputs": [
        {
          "output_type": "stream",
          "text": [
            "/usr/local/lib/python3.6/dist-packages/sklearn/preprocessing/label.py:151: DeprecationWarning: The truth value of an empty array is ambiguous. Returning False, but in future this will result in an error. Use `array.size > 0` to check that an array is not empty.\n",
            "  if diff:\n",
            "/usr/local/lib/python3.6/dist-packages/sklearn/preprocessing/label.py:151: DeprecationWarning: The truth value of an empty array is ambiguous. Returning False, but in future this will result in an error. Use `array.size > 0` to check that an array is not empty.\n",
            "  if diff:\n"
          ],
          "name": "stderr"
        },
        {
          "output_type": "execute_result",
          "data": {
            "text/html": [
              "<div>\n",
              "<style scoped>\n",
              "    .dataframe tbody tr th:only-of-type {\n",
              "        vertical-align: middle;\n",
              "    }\n",
              "\n",
              "    .dataframe tbody tr th {\n",
              "        vertical-align: top;\n",
              "    }\n",
              "\n",
              "    .dataframe thead th {\n",
              "        text-align: right;\n",
              "    }\n",
              "</style>\n",
              "<table border=\"1\" class=\"dataframe\">\n",
              "  <thead>\n",
              "    <tr style=\"text-align: right;\">\n",
              "      <th>col_0</th>\n",
              "      <th>EAP</th>\n",
              "      <th>HPL</th>\n",
              "      <th>MWS</th>\n",
              "    </tr>\n",
              "    <tr>\n",
              "      <th>row_0</th>\n",
              "      <th></th>\n",
              "      <th></th>\n",
              "      <th></th>\n",
              "    </tr>\n",
              "  </thead>\n",
              "  <tbody>\n",
              "    <tr>\n",
              "      <th>EAP</th>\n",
              "      <td>25</td>\n",
              "      <td>31</td>\n",
              "      <td>33</td>\n",
              "    </tr>\n",
              "    <tr>\n",
              "      <th>HPL</th>\n",
              "      <td>11</td>\n",
              "      <td>21</td>\n",
              "      <td>19</td>\n",
              "    </tr>\n",
              "    <tr>\n",
              "      <th>MWS</th>\n",
              "      <td>13</td>\n",
              "      <td>22</td>\n",
              "      <td>25</td>\n",
              "    </tr>\n",
              "  </tbody>\n",
              "</table>\n",
              "</div>"
            ],
            "text/plain": [
              "col_0  EAP  HPL  MWS\n",
              "row_0               \n",
              "EAP     25   31   33\n",
              "HPL     11   21   19\n",
              "MWS     13   22   25"
            ]
          },
          "metadata": {
            "tags": []
          },
          "execution_count": 41
        }
      ]
    },
    {
      "metadata": {
        "id": "IiRaq2a3cW6u",
        "colab_type": "text"
      },
      "cell_type": "markdown",
      "source": [
        "something else"
      ]
    },
    {
      "metadata": {
        "id": "ykVAwu8hFKev",
        "colab_type": "code",
        "colab": {}
      },
      "cell_type": "code",
      "source": [
        ""
      ],
      "execution_count": 0,
      "outputs": []
    },
    {
      "metadata": {
        "colab_type": "text",
        "id": "H4CpnNzxFK3Q"
      },
      "cell_type": "markdown",
      "source": [
        "## Another neural net example 2\n",
        "\n",
        "\n",
        "First we prepare output variable for the neural net model using one hot encoder"
      ]
    },
    {
      "metadata": {
        "colab_type": "code",
        "id": "9bzLAQHyFK3Q",
        "colab": {}
      },
      "cell_type": "code",
      "source": [
        "# Import and instantiate the one hot encoder\n",
        "\n",
        "from sklearn.preprocessing import OneHotEncoder\n",
        "one_hot_enc = OneHotEncoder()"
      ],
      "execution_count": 0,
      "outputs": []
    },
    {
      "metadata": {
        "colab_type": "code",
        "id": "t05P4GO2FK3S",
        "colab": {}
      },
      "cell_type": "code",
      "source": [
        "# Create the dummy-matrix and reshaping (actually the other way around)\n",
        "\n",
        "y_matrix = one_hot_enc.fit_transform(y.reshape(-1,1))"
      ],
      "execution_count": 0,
      "outputs": []
    },
    {
      "metadata": {
        "colab_type": "code",
        "id": "ixRGWd71FK3U",
        "colab": {}
      },
      "cell_type": "code",
      "source": [
        "# Create new train and test-splits\n",
        "\n",
        "from sklearn.model_selection import train_test_split\n",
        "X_train, X_test, y_train, y_test = train_test_split(X, y_matrix, test_size = 0.2, random_state = 42)"
      ],
      "execution_count": 0,
      "outputs": []
    },
    {
      "metadata": {
        "colab_type": "code",
        "outputId": "cbf9440f-0a36-48f7-d2ac-6e37e957287e",
        "id": "D5G7U_UEFK3W",
        "colab": {
          "base_uri": "https://localhost:8080/",
          "height": 50
        }
      },
      "cell_type": "code",
      "source": [
        "# Quick check of the created sets\n",
        "\n",
        "print(X_train.shape)\n",
        "print(y_train.shape)"
      ],
      "execution_count": 87,
      "outputs": [
        {
          "output_type": "stream",
          "text": [
            "(800, 384)\n",
            "(800, 3)\n"
          ],
          "name": "stdout"
        }
      ]
    },
    {
      "metadata": {
        "colab_type": "text",
        "id": "MszD1N6VFK3Z"
      },
      "cell_type": "markdown",
      "source": [
        "Now we start with the neural net"
      ]
    },
    {
      "metadata": {
        "colab_type": "code",
        "id": "HOclMyLKFK3a",
        "colab": {}
      },
      "cell_type": "code",
      "source": [
        "# Importing the keras library for deep learning\n",
        "\n",
        "# Essential elements of Keras\n",
        "import keras\n",
        "from keras.models import Sequential\n",
        "from keras.layers import Dense\n",
        "\n",
        "# Dropout layer\n",
        "from keras.layers import Dropout\n",
        "\n",
        "# Additional stuff: bells and whistles\n",
        "from keras.callbacks import ModelCheckpoint\n",
        "from keras.models import load_model\n"
      ],
      "execution_count": 0,
      "outputs": []
    },
    {
      "metadata": {
        "colab_type": "code",
        "id": "IBMbm48vFK3e",
        "colab": {}
      },
      "cell_type": "code",
      "source": [
        "# As in Sklearn and other models we instatiate the classifier first (nothing new here)\n",
        "classifier = Sequential() "
      ],
      "execution_count": 0,
      "outputs": []
    },
    {
      "metadata": {
        "colab_type": "code",
        "id": "J9pLY3gYFK3f",
        "colab": {}
      },
      "cell_type": "code",
      "source": [
        "# From here we build up the network one layer at a time using the \"add\" method\n",
        "\n",
        "#### Input Layer ####\n",
        "classifier.add(Dense(units = 384, activation='relu', input_dim = 384))\n",
        "classifier.add(Dropout(rate = 0.3))\n",
        "\n",
        "#### Hidden ####\n",
        "classifier.add(Dense(units = 100, activation='relu'))\n",
        "classifier.add(Dropout(rate = 0.3))\n",
        "\n",
        "#### Output ####\n",
        "classifier.add(Dense(units = 3, activation='softmax'))"
      ],
      "execution_count": 0,
      "outputs": []
    },
    {
      "metadata": {
        "colab_type": "code",
        "id": "vjCdSq9fFK3h",
        "colab": {}
      },
      "cell_type": "code",
      "source": [
        "#### COMPILE ####\n",
        "classifier.compile(optimizer=\"rmsprop\", loss = 'categorical_crossentropy', metrics = ['accuracy'])"
      ],
      "execution_count": 0,
      "outputs": []
    },
    {
      "metadata": {
        "colab_type": "code",
        "outputId": "89ad60d6-b10d-4249-8756-92956632ab8d",
        "id": "YJ74mykxFK3k",
        "colab": {
          "base_uri": "https://localhost:8080/",
          "height": 304
        }
      },
      "cell_type": "code",
      "source": [
        "# Let's check out how our network looks like\n",
        "\n",
        "classifier.summary()"
      ],
      "execution_count": 103,
      "outputs": [
        {
          "output_type": "stream",
          "text": [
            "_________________________________________________________________\n",
            "Layer (type)                 Output Shape              Param #   \n",
            "=================================================================\n",
            "dense_13 (Dense)             (None, 384)               147840    \n",
            "_________________________________________________________________\n",
            "dropout_7 (Dropout)          (None, 384)               0         \n",
            "_________________________________________________________________\n",
            "dense_14 (Dense)             (None, 100)               38500     \n",
            "_________________________________________________________________\n",
            "dropout_8 (Dropout)          (None, 100)               0         \n",
            "_________________________________________________________________\n",
            "dense_15 (Dense)             (None, 3)                 303       \n",
            "=================================================================\n",
            "Total params: 186,643\n",
            "Trainable params: 186,643\n",
            "Non-trainable params: 0\n",
            "_________________________________________________________________\n"
          ],
          "name": "stdout"
        }
      ]
    },
    {
      "metadata": {
        "colab_type": "code",
        "id": "niA6R-XGFK3m",
        "colab": {}
      },
      "cell_type": "code",
      "source": [
        "# The checkpointer is not necessary but useful, as it will save the best performing model for later use\n",
        "checkpointer = ModelCheckpoint(filepath=\"model.h5\",\n",
        "                               verbose=0,\n",
        "                               save_best_only=True)"
      ],
      "execution_count": 0,
      "outputs": []
    },
    {
      "metadata": {
        "colab_type": "code",
        "outputId": "f4a320d0-c6c2-44c7-ac23-f611ba981a5a",
        "id": "Q835tmPbFK3p",
        "colab": {
          "base_uri": "https://localhost:8080/",
          "height": 554
        }
      },
      "cell_type": "code",
      "source": [
        "# We train the model with the fit method (surprise). We specify some parameters: how many observations per batch, how many epochs to train\n",
        "# the rest is optional but nice (calculate a test-set-performance score at each epoch, shuffle the observations in each batch as well as)\n",
        "# use the callback which saves the best model.\n",
        "history = classifier.fit(X_train, y_train, batch_size= 32, epochs= 250, validation_data=(X_test, y_test), shuffle=True,\n",
        "                        callbacks=[checkpointer])"
      ],
      "execution_count": 105,
      "outputs": [
        {
          "output_type": "error",
          "ename": "ValueError",
          "evalue": "ignored",
          "traceback": [
            "\u001b[0;31m---------------------------------------------------------------------------\u001b[0m",
            "\u001b[0;31mValueError\u001b[0m                                Traceback (most recent call last)",
            "\u001b[0;32m<ipython-input-105-0e1d13f19cb9>\u001b[0m in \u001b[0;36m<module>\u001b[0;34m()\u001b[0m\n\u001b[1;32m      1\u001b[0m history = classifier.fit(X_train, y_train, batch_size= 32, epochs= 250, validation_data=(X_test, y_test), shuffle=True,\n\u001b[0;32m----> 2\u001b[0;31m                         callbacks=[checkpointer])\n\u001b[0m",
            "\u001b[0;32m/usr/local/lib/python3.6/dist-packages/keras/engine/training.py\u001b[0m in \u001b[0;36mfit\u001b[0;34m(self, x, y, batch_size, epochs, verbose, callbacks, validation_split, validation_data, shuffle, class_weight, sample_weight, initial_epoch, steps_per_epoch, validation_steps, **kwargs)\u001b[0m\n\u001b[1;32m    970\u001b[0m                 \u001b[0mval_x\u001b[0m\u001b[0;34m,\u001b[0m \u001b[0mval_y\u001b[0m\u001b[0;34m,\u001b[0m\u001b[0;34m\u001b[0m\u001b[0m\n\u001b[1;32m    971\u001b[0m                 \u001b[0msample_weight\u001b[0m\u001b[0;34m=\u001b[0m\u001b[0mval_sample_weight\u001b[0m\u001b[0;34m,\u001b[0m\u001b[0;34m\u001b[0m\u001b[0m\n\u001b[0;32m--> 972\u001b[0;31m                 batch_size=batch_size)\n\u001b[0m\u001b[1;32m    973\u001b[0m             \u001b[0;32mif\u001b[0m \u001b[0mself\u001b[0m\u001b[0;34m.\u001b[0m\u001b[0m_uses_dynamic_learning_phase\u001b[0m\u001b[0;34m(\u001b[0m\u001b[0;34m)\u001b[0m\u001b[0;34m:\u001b[0m\u001b[0;34m\u001b[0m\u001b[0m\n\u001b[1;32m    974\u001b[0m                 \u001b[0mval_ins\u001b[0m \u001b[0;34m=\u001b[0m \u001b[0mval_x\u001b[0m \u001b[0;34m+\u001b[0m \u001b[0mval_y\u001b[0m \u001b[0;34m+\u001b[0m \u001b[0mval_sample_weights\u001b[0m \u001b[0;34m+\u001b[0m \u001b[0;34m[\u001b[0m\u001b[0;36m0.\u001b[0m\u001b[0;34m]\u001b[0m\u001b[0;34m\u001b[0m\u001b[0m\n",
            "\u001b[0;32m/usr/local/lib/python3.6/dist-packages/keras/engine/training.py\u001b[0m in \u001b[0;36m_standardize_user_data\u001b[0;34m(self, x, y, sample_weight, class_weight, check_array_lengths, batch_size)\u001b[0m\n\u001b[1;32m    787\u001b[0m                 \u001b[0mfeed_output_shapes\u001b[0m\u001b[0;34m,\u001b[0m\u001b[0;34m\u001b[0m\u001b[0m\n\u001b[1;32m    788\u001b[0m                 \u001b[0mcheck_batch_axis\u001b[0m\u001b[0;34m=\u001b[0m\u001b[0;32mFalse\u001b[0m\u001b[0;34m,\u001b[0m  \u001b[0;31m# Don't enforce the batch size.\u001b[0m\u001b[0;34m\u001b[0m\u001b[0m\n\u001b[0;32m--> 789\u001b[0;31m                 exception_prefix='target')\n\u001b[0m\u001b[1;32m    790\u001b[0m \u001b[0;34m\u001b[0m\u001b[0m\n\u001b[1;32m    791\u001b[0m             \u001b[0;31m# Generate sample-wise weight values given the `sample_weight` and\u001b[0m\u001b[0;34m\u001b[0m\u001b[0;34m\u001b[0m\u001b[0m\n",
            "\u001b[0;32m/usr/local/lib/python3.6/dist-packages/keras/engine/training_utils.py\u001b[0m in \u001b[0;36mstandardize_input_data\u001b[0;34m(data, names, shapes, check_batch_axis, exception_prefix)\u001b[0m\n\u001b[1;32m    136\u001b[0m                             \u001b[0;34m': expected '\u001b[0m \u001b[0;34m+\u001b[0m \u001b[0mnames\u001b[0m\u001b[0;34m[\u001b[0m\u001b[0mi\u001b[0m\u001b[0;34m]\u001b[0m \u001b[0;34m+\u001b[0m \u001b[0;34m' to have shape '\u001b[0m \u001b[0;34m+\u001b[0m\u001b[0;34m\u001b[0m\u001b[0m\n\u001b[1;32m    137\u001b[0m                             \u001b[0mstr\u001b[0m\u001b[0;34m(\u001b[0m\u001b[0mshape\u001b[0m\u001b[0;34m)\u001b[0m \u001b[0;34m+\u001b[0m \u001b[0;34m' but got array with shape '\u001b[0m \u001b[0;34m+\u001b[0m\u001b[0;34m\u001b[0m\u001b[0m\n\u001b[0;32m--> 138\u001b[0;31m                             str(data_shape))\n\u001b[0m\u001b[1;32m    139\u001b[0m     \u001b[0;32mreturn\u001b[0m \u001b[0mdata\u001b[0m\u001b[0;34m\u001b[0m\u001b[0m\n\u001b[1;32m    140\u001b[0m \u001b[0;34m\u001b[0m\u001b[0m\n",
            "\u001b[0;31mValueError\u001b[0m: Error when checking target: expected dense_15 to have shape (3,) but got array with shape (1,)"
          ]
        }
      ]
    },
    {
      "metadata": {
        "colab_type": "code",
        "id": "FK5xaH1CFK3w",
        "colab": {}
      },
      "cell_type": "code",
      "source": [
        "# Let's plot our trainin process (we actually can look what happened as we were training)\n",
        "import matplotlib.pyplot as plt"
      ],
      "execution_count": 0,
      "outputs": []
    },
    {
      "metadata": {
        "colab_type": "code",
        "outputId": "c22762b2-7341-482f-9455-6652f87009bf",
        "id": "U9FR4ieGFK3y",
        "colab": {
          "base_uri": "https://localhost:8080/",
          "height": 734
        }
      },
      "cell_type": "code",
      "source": [
        "# summarize history for accuracy\n",
        "plt.plot(history.history['acc'])\n",
        "plt.plot(history.history['val_acc'])\n",
        "plt.title('model accuracy')\n",
        "plt.ylabel('accuracy')\n",
        "plt.xlabel('epoch')\n",
        "plt.legend(['train', 'test'], loc='upper left')\n",
        "plt.show()\n",
        "# summarize history for loss\n",
        "plt.plot(history.history['loss'])\n",
        "plt.plot(history.history['val_loss'])\n",
        "plt.title('model loss')\n",
        "plt.ylabel('loss')\n",
        "plt.xlabel('epoch')\n",
        "plt.legend(['train', 'test'], loc='upper left')\n",
        "plt.show()"
      ],
      "execution_count": 107,
      "outputs": [
        {
          "output_type": "display_data",
          "data": {
            "image/png": "[encoded data removed]",
            "text/plain": [
              "<matplotlib.figure.Figure at 0x7f5a5b26b4e0>"
            ]
          },
          "metadata": {
            "tags": []
          }
        },
        {
          "output_type": "display_data",
          "data": {
            "image/png": "[encoded data removed]",
            "text/plain": [
              "<matplotlib.figure.Figure at 0x7f5a5abbe400>"
            ]
          },
          "metadata": {
            "tags": []
          }
        }
      ]
    },
    {
      "metadata": {
        "colab_type": "code",
        "outputId": "9d1b92c0-bdfe-4053-99e3-e600b4972378",
        "id": "4ig0ZtyDFK32",
        "colab": {
          "base_uri": "https://localhost:8080/",
          "height": 517
        }
      },
      "cell_type": "code",
      "source": [
        "# How does it perform?\n",
        "\n",
        "#classifier = load_model('model.h5')\n",
        "classifier.evaluate(X_test,y_test)"
      ],
      "execution_count": 114,
      "outputs": [
        {
          "output_type": "error",
          "ename": "ValueError",
          "evalue": "ignored",
          "traceback": [
            "\u001b[0;31m---------------------------------------------------------------------------\u001b[0m",
            "\u001b[0;31mValueError\u001b[0m                                Traceback (most recent call last)",
            "\u001b[0;32m<ipython-input-114-b089ece6daa5>\u001b[0m in \u001b[0;36m<module>\u001b[0;34m()\u001b[0m\n\u001b[0;32m----> 1\u001b[0;31m \u001b[0mclassifier\u001b[0m\u001b[0;34m.\u001b[0m\u001b[0mevaluate\u001b[0m\u001b[0;34m(\u001b[0m\u001b[0mX_test\u001b[0m\u001b[0;34m,\u001b[0m\u001b[0my_test\u001b[0m\u001b[0;34m)\u001b[0m\u001b[0;34m\u001b[0m\u001b[0m\n\u001b[0m",
            "\u001b[0;32m/usr/local/lib/python3.6/dist-packages/keras/engine/training.py\u001b[0m in \u001b[0;36mevaluate\u001b[0;34m(self, x, y, batch_size, verbose, sample_weight, steps)\u001b[0m\n\u001b[1;32m   1100\u001b[0m             \u001b[0mx\u001b[0m\u001b[0;34m,\u001b[0m \u001b[0my\u001b[0m\u001b[0;34m,\u001b[0m\u001b[0;34m\u001b[0m\u001b[0m\n\u001b[1;32m   1101\u001b[0m             \u001b[0msample_weight\u001b[0m\u001b[0;34m=\u001b[0m\u001b[0msample_weight\u001b[0m\u001b[0;34m,\u001b[0m\u001b[0;34m\u001b[0m\u001b[0m\n\u001b[0;32m-> 1102\u001b[0;31m             batch_size=batch_size)\n\u001b[0m\u001b[1;32m   1103\u001b[0m         \u001b[0;31m# Prepare inputs, delegate logic to `test_loop`.\u001b[0m\u001b[0;34m\u001b[0m\u001b[0;34m\u001b[0m\u001b[0m\n\u001b[1;32m   1104\u001b[0m         \u001b[0;32mif\u001b[0m \u001b[0mself\u001b[0m\u001b[0;34m.\u001b[0m\u001b[0m_uses_dynamic_learning_phase\u001b[0m\u001b[0;34m(\u001b[0m\u001b[0;34m)\u001b[0m\u001b[0;34m:\u001b[0m\u001b[0;34m\u001b[0m\u001b[0m\n",
            "\u001b[0;32m/usr/local/lib/python3.6/dist-packages/keras/engine/training.py\u001b[0m in \u001b[0;36m_standardize_user_data\u001b[0;34m(self, x, y, sample_weight, class_weight, check_array_lengths, batch_size)\u001b[0m\n\u001b[1;32m    787\u001b[0m                 \u001b[0mfeed_output_shapes\u001b[0m\u001b[0;34m,\u001b[0m\u001b[0;34m\u001b[0m\u001b[0m\n\u001b[1;32m    788\u001b[0m                 \u001b[0mcheck_batch_axis\u001b[0m\u001b[0;34m=\u001b[0m\u001b[0;32mFalse\u001b[0m\u001b[0;34m,\u001b[0m  \u001b[0;31m# Don't enforce the batch size.\u001b[0m\u001b[0;34m\u001b[0m\u001b[0m\n\u001b[0;32m--> 789\u001b[0;31m                 exception_prefix='target')\n\u001b[0m\u001b[1;32m    790\u001b[0m \u001b[0;34m\u001b[0m\u001b[0m\n\u001b[1;32m    791\u001b[0m             \u001b[0;31m# Generate sample-wise weight values given the `sample_weight` and\u001b[0m\u001b[0;34m\u001b[0m\u001b[0;34m\u001b[0m\u001b[0m\n",
            "\u001b[0;32m/usr/local/lib/python3.6/dist-packages/keras/engine/training_utils.py\u001b[0m in \u001b[0;36mstandardize_input_data\u001b[0;34m(data, names, shapes, check_batch_axis, exception_prefix)\u001b[0m\n\u001b[1;32m    136\u001b[0m                             \u001b[0;34m': expected '\u001b[0m \u001b[0;34m+\u001b[0m \u001b[0mnames\u001b[0m\u001b[0;34m[\u001b[0m\u001b[0mi\u001b[0m\u001b[0;34m]\u001b[0m \u001b[0;34m+\u001b[0m \u001b[0;34m' to have shape '\u001b[0m \u001b[0;34m+\u001b[0m\u001b[0;34m\u001b[0m\u001b[0m\n\u001b[1;32m    137\u001b[0m                             \u001b[0mstr\u001b[0m\u001b[0;34m(\u001b[0m\u001b[0mshape\u001b[0m\u001b[0;34m)\u001b[0m \u001b[0;34m+\u001b[0m \u001b[0;34m' but got array with shape '\u001b[0m \u001b[0;34m+\u001b[0m\u001b[0;34m\u001b[0m\u001b[0m\n\u001b[0;32m--> 138\u001b[0;31m                             str(data_shape))\n\u001b[0m\u001b[1;32m    139\u001b[0m     \u001b[0;32mreturn\u001b[0m \u001b[0mdata\u001b[0m\u001b[0;34m\u001b[0m\u001b[0m\n\u001b[1;32m    140\u001b[0m \u001b[0;34m\u001b[0m\u001b[0m\n",
            "\u001b[0;31mValueError\u001b[0m: Error when checking target: expected dense_12 to have shape (3,) but got array with shape (1,)"
          ]
        }
      ]
    },
    {
      "metadata": {
        "colab_type": "code",
        "outputId": "ad716da0-97a8-42f3-d9a5-c005baee4b35",
        "id": "8Yg_DJGPFK34",
        "colab": {
          "base_uri": "https://localhost:8080/",
          "height": 152
        }
      },
      "cell_type": "code",
      "source": [
        "y_pred = model.predict(X_test)\n",
        "\n",
        "\n",
        "\n",
        "y_pred = np.argmax(y_pred, axis=1)\n",
        "y_test = np.argmax(y_test, axis=1)\n",
        "\n",
        "report = classification_report(y_test, y_pred)\n",
        "print(report)"
      ],
      "execution_count": 97,
      "outputs": [
        {
          "output_type": "stream",
          "text": [
            "             precision    recall  f1-score   support\n",
            "\n",
            "          0       0.50      0.11      0.18        89\n",
            "          1       0.25      0.02      0.04        51\n",
            "          2       0.30      0.87      0.44        60\n",
            "\n",
            "avg / total       0.37      0.32      0.22       200\n",
            "\n"
          ],
          "name": "stdout"
        }
      ]
    },
    {
      "metadata": {
        "colab_type": "code",
        "outputId": "d095546f-901b-43d8-d3b7-762a8fbea695",
        "id": "wxG_SKtZFK37",
        "colab": {
          "base_uri": "https://localhost:8080/",
          "height": 258
        }
      },
      "cell_type": "code",
      "source": [
        "# columns = predicted, rows = real\n",
        "\n",
        "# y_test.A.ravel() is weird: we need to transform it from a matrix to an array and then flatten it back to a 1D vector.\n",
        "pd.crosstab(labelencoder.inverse_transform(y_test.A.ravel()),labelencoder.inverse_transform(y_pred))"
      ],
      "execution_count": 109,
      "outputs": [
        {
          "output_type": "stream",
          "text": [
            "/usr/local/lib/python3.6/dist-packages/sklearn/preprocessing/label.py:151: DeprecationWarning: The truth value of an empty array is ambiguous. Returning False, but in future this will result in an error. Use `array.size > 0` to check that an array is not empty.\n",
            "  if diff:\n",
            "/usr/local/lib/python3.6/dist-packages/sklearn/preprocessing/label.py:151: DeprecationWarning: The truth value of an empty array is ambiguous. Returning False, but in future this will result in an error. Use `array.size > 0` to check that an array is not empty.\n",
            "  if diff:\n"
          ],
          "name": "stderr"
        },
        {
          "output_type": "execute_result",
          "data": {
            "text/html": [
              "<div>\n",
              "<style scoped>\n",
              "    .dataframe tbody tr th:only-of-type {\n",
              "        vertical-align: middle;\n",
              "    }\n",
              "\n",
              "    .dataframe tbody tr th {\n",
              "        vertical-align: top;\n",
              "    }\n",
              "\n",
              "    .dataframe thead th {\n",
              "        text-align: right;\n",
              "    }\n",
              "</style>\n",
              "<table border=\"1\" class=\"dataframe\">\n",
              "  <thead>\n",
              "    <tr style=\"text-align: right;\">\n",
              "      <th>col_0</th>\n",
              "      <th>EAP</th>\n",
              "      <th>HPL</th>\n",
              "      <th>MWS</th>\n",
              "    </tr>\n",
              "    <tr>\n",
              "      <th>row_0</th>\n",
              "      <th></th>\n",
              "      <th></th>\n",
              "      <th></th>\n",
              "    </tr>\n",
              "  </thead>\n",
              "  <tbody>\n",
              "    <tr>\n",
              "      <th>EAP</th>\n",
              "      <td>10</td>\n",
              "      <td>1</td>\n",
              "      <td>78</td>\n",
              "    </tr>\n",
              "    <tr>\n",
              "      <th>HPL</th>\n",
              "      <td>4</td>\n",
              "      <td>1</td>\n",
              "      <td>46</td>\n",
              "    </tr>\n",
              "    <tr>\n",
              "      <th>MWS</th>\n",
              "      <td>6</td>\n",
              "      <td>2</td>\n",
              "      <td>52</td>\n",
              "    </tr>\n",
              "  </tbody>\n",
              "</table>\n",
              "</div>"
            ],
            "text/plain": [
              "col_0  EAP  HPL  MWS\n",
              "row_0               \n",
              "EAP     10    1   78\n",
              "HPL      4    1   46\n",
              "MWS      6    2   52"
            ]
          },
          "metadata": {
            "tags": []
          },
          "execution_count": 109
        }
      ]
    },
    {
      "metadata": {
        "id": "ht0g4P4wFJnt",
        "colab_type": "text"
      },
      "cell_type": "markdown",
      "source": [
        ""
      ]
    },
    {
      "metadata": {
        "id": "FrppPkW7FIzo",
        "colab_type": "code",
        "colab": {}
      },
      "cell_type": "code",
      "source": [
        ""
      ],
      "execution_count": 0,
      "outputs": []
    },
    {
      "metadata": {
        "id": "C2XRK6Cvis_l",
        "colab_type": "code",
        "colab": {}
      },
      "cell_type": "code",
      "source": [
        "# This will tokenize and count up each and any text-chunk\n",
        "# Add a TFIDF transformer if you want to work from that end\n",
        "\n",
        "#from sklearn.feature_extraction.text import CountVectorizer\n",
        "#count_vect = CountVectorizer()\n",
        "#X_train_counts = count_vect.fit_transform(data['text'])"
      ],
      "execution_count": 0,
      "outputs": []
    },
    {
      "metadata": {
        "id": "8cCy88oVg62D",
        "colab_type": "text"
      },
      "cell_type": "markdown",
      "source": [
        "# Results\n"
      ]
    },
    {
      "metadata": {
        "_uuid": "5dcae2b243933df8ab5176fca1a656c85f96b599",
        "id": "6WK90kYaLlcU",
        "colab_type": "code",
        "colab": {}
      },
      "cell_type": "code",
      "source": [
        "test = pd.read_csv('https://github.com/SDS-AAU/M3-2018/raw/master/assignments/individual/data/test.csv')"
      ],
      "execution_count": 0,
      "outputs": []
    },
    {
      "metadata": {
        "_uuid": "bb01d0813c677eb326cee0020fef03afd206548a",
        "id": "1mZRO4zcLlcV",
        "colab_type": "code",
        "outputId": "3e2fbba8-297c-4760-9e33-aee059fd1d5f",
        "colab": {
          "base_uri": "https://localhost:8080/",
          "height": 201
        }
      },
      "cell_type": "code",
      "source": [
        "test.head()"
      ],
      "execution_count": 63,
      "outputs": [
        {
          "output_type": "execute_result",
          "data": {
            "text/html": [
              "<div>\n",
              "<style scoped>\n",
              "    .dataframe tbody tr th:only-of-type {\n",
              "        vertical-align: middle;\n",
              "    }\n",
              "\n",
              "    .dataframe tbody tr th {\n",
              "        vertical-align: top;\n",
              "    }\n",
              "\n",
              "    .dataframe thead th {\n",
              "        text-align: right;\n",
              "    }\n",
              "</style>\n",
              "<table border=\"1\" class=\"dataframe\">\n",
              "  <thead>\n",
              "    <tr style=\"text-align: right;\">\n",
              "      <th></th>\n",
              "      <th>id</th>\n",
              "      <th>text</th>\n",
              "    </tr>\n",
              "  </thead>\n",
              "  <tbody>\n",
              "    <tr>\n",
              "      <th>0</th>\n",
              "      <td>id02310</td>\n",
              "      <td>Still, as I urged our leaving Ireland with suc...</td>\n",
              "    </tr>\n",
              "    <tr>\n",
              "      <th>1</th>\n",
              "      <td>id24541</td>\n",
              "      <td>If a fire wanted fanning, it could readily be ...</td>\n",
              "    </tr>\n",
              "    <tr>\n",
              "      <th>2</th>\n",
              "      <td>id00134</td>\n",
              "      <td>And when they had broken down the frail door t...</td>\n",
              "    </tr>\n",
              "    <tr>\n",
              "      <th>3</th>\n",
              "      <td>id27757</td>\n",
              "      <td>While I was thinking how I should possibly man...</td>\n",
              "    </tr>\n",
              "    <tr>\n",
              "      <th>4</th>\n",
              "      <td>id04081</td>\n",
              "      <td>I am not sure to what limit his knowledge may ...</td>\n",
              "    </tr>\n",
              "  </tbody>\n",
              "</table>\n",
              "</div>"
            ],
            "text/plain": [
              "        id                                               text\n",
              "0  id02310  Still, as I urged our leaving Ireland with suc...\n",
              "1  id24541  If a fire wanted fanning, it could readily be ...\n",
              "2  id00134  And when they had broken down the frail door t...\n",
              "3  id27757  While I was thinking how I should possibly man...\n",
              "4  id04081  I am not sure to what limit his knowledge may ..."
            ]
          },
          "metadata": {
            "tags": []
          },
          "execution_count": 63
        }
      ]
    },
    {
      "metadata": {
        "_uuid": "42adbc1bb2d459671fda5d60fd566ee06001ddb9",
        "id": "CXygAw-tLlcY",
        "colab_type": "code",
        "colab": {}
      },
      "cell_type": "code",
      "source": [
        "#Activate this if it is for development purposes, otherwise it will take a long ass time\n",
        "test = test[:1000]"
      ],
      "execution_count": 0,
      "outputs": []
    },
    {
      "metadata": {
        "_uuid": "d8980a7cbc46d01f61c371a21a6a40d65ae1ef25",
        "id": "yOkfmqtQLlcZ",
        "colab_type": "text"
      },
      "cell_type": "markdown",
      "source": [
        "Now we again have to vectorize each word so that all the words are represented by vectors. "
      ]
    },
    {
      "metadata": {
        "_uuid": "6b2701f0e745c0b29d4840ea04f4e04f2eb0bdd6",
        "id": "P1zHx3ypLlca",
        "colab_type": "code",
        "colab": {}
      },
      "cell_type": "code",
      "source": [
        "test['spacy_sentence_vec'] = test['text'].map(lambda t: nlp(t).vector)"
      ],
      "execution_count": 0,
      "outputs": []
    },
    {
      "metadata": {
        "_uuid": "3398de1b5a19662310ad6e67fea2b15ab149f818",
        "id": "Lqsd3Vh4Llcc",
        "colab_type": "code",
        "outputId": "994dc150-7951-4c8b-d850-37dbf6e6e08c",
        "colab": {
          "base_uri": "https://localhost:8080/",
          "height": 201
        }
      },
      "cell_type": "code",
      "source": [
        "test.head()"
      ],
      "execution_count": 66,
      "outputs": [
        {
          "output_type": "execute_result",
          "data": {
            "text/html": [
              "<div>\n",
              "<style scoped>\n",
              "    .dataframe tbody tr th:only-of-type {\n",
              "        vertical-align: middle;\n",
              "    }\n",
              "\n",
              "    .dataframe tbody tr th {\n",
              "        vertical-align: top;\n",
              "    }\n",
              "\n",
              "    .dataframe thead th {\n",
              "        text-align: right;\n",
              "    }\n",
              "</style>\n",
              "<table border=\"1\" class=\"dataframe\">\n",
              "  <thead>\n",
              "    <tr style=\"text-align: right;\">\n",
              "      <th></th>\n",
              "      <th>id</th>\n",
              "      <th>text</th>\n",
              "      <th>spacy_sentence_vec</th>\n",
              "    </tr>\n",
              "  </thead>\n",
              "  <tbody>\n",
              "    <tr>\n",
              "      <th>0</th>\n",
              "      <td>id02310</td>\n",
              "      <td>Still, as I urged our leaving Ireland with suc...</td>\n",
              "      <td>[0.73991865, 0.16185702, 0.77799124, 0.7636164...</td>\n",
              "    </tr>\n",
              "    <tr>\n",
              "      <th>1</th>\n",
              "      <td>id24541</td>\n",
              "      <td>If a fire wanted fanning, it could readily be ...</td>\n",
              "      <td>[0.74620396, 0.14490844, -0.180486, 1.3279938,...</td>\n",
              "    </tr>\n",
              "    <tr>\n",
              "      <th>2</th>\n",
              "      <td>id00134</td>\n",
              "      <td>And when they had broken down the frail door t...</td>\n",
              "      <td>[0.67145103, -0.31144783, 0.45671213, 0.904057...</td>\n",
              "    </tr>\n",
              "    <tr>\n",
              "      <th>3</th>\n",
              "      <td>id27757</td>\n",
              "      <td>While I was thinking how I should possibly man...</td>\n",
              "      <td>[0.016066251, -0.07044156, 0.2711458, 0.92275,...</td>\n",
              "    </tr>\n",
              "    <tr>\n",
              "      <th>4</th>\n",
              "      <td>id04081</td>\n",
              "      <td>I am not sure to what limit his knowledge may ...</td>\n",
              "      <td>[0.43912992, 0.3072188, 1.2108351, 0.89780664,...</td>\n",
              "    </tr>\n",
              "  </tbody>\n",
              "</table>\n",
              "</div>"
            ],
            "text/plain": [
              "        id                                               text  \\\n",
              "0  id02310  Still, as I urged our leaving Ireland with suc...   \n",
              "1  id24541  If a fire wanted fanning, it could readily be ...   \n",
              "2  id00134  And when they had broken down the frail door t...   \n",
              "3  id27757  While I was thinking how I should possibly man...   \n",
              "4  id04081  I am not sure to what limit his knowledge may ...   \n",
              "\n",
              "                                  spacy_sentence_vec  \n",
              "0  [0.73991865, 0.16185702, 0.77799124, 0.7636164...  \n",
              "1  [0.74620396, 0.14490844, -0.180486, 1.3279938,...  \n",
              "2  [0.67145103, -0.31144783, 0.45671213, 0.904057...  \n",
              "3  [0.016066251, -0.07044156, 0.2711458, 0.92275,...  \n",
              "4  [0.43912992, 0.3072188, 1.2108351, 0.89780664,...  "
            ]
          },
          "metadata": {
            "tags": []
          },
          "execution_count": 66
        }
      ]
    },
    {
      "metadata": {
        "_uuid": "8fa2846fd1f00dc5d669434acf10966e62cfc505",
        "id": "m9HfEN39Llce",
        "colab_type": "text"
      },
      "cell_type": "markdown",
      "source": [
        "Then we use the spacy package again to stack the data in the correct way. This will result in a nice matrix of the right data"
      ]
    },
    {
      "metadata": {
        "_uuid": "ea7a17f9c309d8bf115ff48cb42ecf8f649bf4f3",
        "id": "17CKYshBLlce",
        "colab_type": "code",
        "colab": {}
      },
      "cell_type": "code",
      "source": [
        "X = np.vstack(test['spacy_sentence_vec'])"
      ],
      "execution_count": 0,
      "outputs": []
    },
    {
      "metadata": {
        "_uuid": "ffdedec9c5760bb68de8ad0dd1c685736a5227b2",
        "id": "iCn1oT3HLlcg",
        "colab_type": "text"
      },
      "cell_type": "markdown",
      "source": [
        "Next we predict the training data. This time we don't know if our results are correct or not - we can just see the results."
      ]
    },
    {
      "metadata": {
        "id": "UtjgmPDwvwQv",
        "colab_type": "code",
        "colab": {}
      },
      "cell_type": "code",
      "source": [
        "classifier = load_model('model.h5')"
      ],
      "execution_count": 0,
      "outputs": []
    },
    {
      "metadata": {
        "_uuid": "1e04d65fe932bfde5eaa12905b82ead0a33d7814",
        "id": "zKsCL6CtLlch",
        "colab_type": "code",
        "colab": {}
      },
      "cell_type": "code",
      "source": [
        "y_pred = classifier.predict(X)"
      ],
      "execution_count": 0,
      "outputs": []
    },
    {
      "metadata": {
        "_uuid": "f73dda5b5b4e3691c1c5f7872b580c8ff4408002",
        "id": "SKW1iVQYLlcj",
        "colab_type": "text"
      },
      "cell_type": "markdown",
      "source": [
        "Lets take a look at our results. They are in scientific notation, but no matter."
      ]
    },
    {
      "metadata": {
        "_uuid": "7d8e3dd6c6f4a8f9115f13c4807f821c25146c34",
        "id": "jRsrGZfSLlcj",
        "colab_type": "code",
        "outputId": "25b35fa2-5a99-4e75-cd8d-8aea024c9f01",
        "colab": {
          "base_uri": "https://localhost:8080/",
          "height": 135
        }
      },
      "cell_type": "code",
      "source": [
        "y_pred"
      ],
      "execution_count": 112,
      "outputs": [
        {
          "output_type": "execute_result",
          "data": {
            "text/plain": [
              "array([[0.3413332 , 0.3246902 , 0.33397654],\n",
              "       [0.36699244, 0.33418858, 0.29881904],\n",
              "       [0.38760972, 0.27727765, 0.33511257],\n",
              "       ...,\n",
              "       [0.3781609 , 0.30353498, 0.31830406],\n",
              "       [0.3734448 , 0.3228053 , 0.30374998],\n",
              "       [0.39444172, 0.28689107, 0.3186672 ]], dtype=float32)"
            ]
          },
          "metadata": {
            "tags": []
          },
          "execution_count": 112
        }
      ]
    },
    {
      "metadata": {
        "id": "ul3HMAqVlYF2",
        "colab_type": "code",
        "colab": {
          "base_uri": "https://localhost:8080/",
          "height": 201
        },
        "outputId": "e68f2b96-ba76-48a1-f13a-0cf4bbd51ef6"
      },
      "cell_type": "code",
      "source": [
        "#Add the results to a dataframe \n",
        "my_results = pd.DataFrame({'EAP':y_pred[:,0],'HPL':y_pred[:,1],'MWS':y_pred[:,2]})\n",
        "\n",
        "#Add the ID to the dataframe\n",
        "my_results['id'] = test['id']\n",
        "\n",
        "my_results.head()"
      ],
      "execution_count": 113,
      "outputs": [
        {
          "output_type": "execute_result",
          "data": {
            "text/html": [
              "<div>\n",
              "<style scoped>\n",
              "    .dataframe tbody tr th:only-of-type {\n",
              "        vertical-align: middle;\n",
              "    }\n",
              "\n",
              "    .dataframe tbody tr th {\n",
              "        vertical-align: top;\n",
              "    }\n",
              "\n",
              "    .dataframe thead th {\n",
              "        text-align: right;\n",
              "    }\n",
              "</style>\n",
              "<table border=\"1\" class=\"dataframe\">\n",
              "  <thead>\n",
              "    <tr style=\"text-align: right;\">\n",
              "      <th></th>\n",
              "      <th>EAP</th>\n",
              "      <th>HPL</th>\n",
              "      <th>MWS</th>\n",
              "      <th>id</th>\n",
              "    </tr>\n",
              "  </thead>\n",
              "  <tbody>\n",
              "    <tr>\n",
              "      <th>0</th>\n",
              "      <td>0.341</td>\n",
              "      <td>0.325</td>\n",
              "      <td>0.334</td>\n",
              "      <td>id02310</td>\n",
              "    </tr>\n",
              "    <tr>\n",
              "      <th>1</th>\n",
              "      <td>0.367</td>\n",
              "      <td>0.334</td>\n",
              "      <td>0.299</td>\n",
              "      <td>id24541</td>\n",
              "    </tr>\n",
              "    <tr>\n",
              "      <th>2</th>\n",
              "      <td>0.388</td>\n",
              "      <td>0.277</td>\n",
              "      <td>0.335</td>\n",
              "      <td>id00134</td>\n",
              "    </tr>\n",
              "    <tr>\n",
              "      <th>3</th>\n",
              "      <td>0.387</td>\n",
              "      <td>0.309</td>\n",
              "      <td>0.304</td>\n",
              "      <td>id27757</td>\n",
              "    </tr>\n",
              "    <tr>\n",
              "      <th>4</th>\n",
              "      <td>0.368</td>\n",
              "      <td>0.305</td>\n",
              "      <td>0.327</td>\n",
              "      <td>id04081</td>\n",
              "    </tr>\n",
              "  </tbody>\n",
              "</table>\n",
              "</div>"
            ],
            "text/plain": [
              "    EAP   HPL   MWS       id\n",
              "0 0.341 0.325 0.334  id02310\n",
              "1 0.367 0.334 0.299  id24541\n",
              "2 0.388 0.277 0.335  id00134\n",
              "3 0.387 0.309 0.304  id27757\n",
              "4 0.368 0.305 0.327  id04081"
            ]
          },
          "metadata": {
            "tags": []
          },
          "execution_count": 113
        }
      ]
    },
    {
      "metadata": {
        "_uuid": "b14bef9edb87419d5e22d4d17b496ed78e0e2bf6",
        "id": "RfkWrI4vLlcm",
        "colab_type": "text"
      },
      "cell_type": "markdown",
      "source": [
        "##Save results to .csv\n",
        "We save the results in a csv file that can be downloaded from transfer.sh when you press the link that is generated. "
      ]
    },
    {
      "metadata": {
        "_uuid": "e74b35590f63fddb6c9aec7aee90b63c82f9bf7d",
        "id": "4cSWXfWxLlcm",
        "colab_type": "code",
        "colab": {}
      },
      "cell_type": "code",
      "source": [
        "my_results.to_csv(\"Individual_assignment3_results.csv\", sep=',')"
      ],
      "execution_count": 0,
      "outputs": []
    },
    {
      "metadata": {
        "id": "aEQ1pHAiM4gq",
        "colab_type": "code",
        "outputId": "0eee2c28-91e2-440e-d189-cce93319a9a7",
        "colab": {
          "base_uri": "https://localhost:8080/",
          "height": 34
        }
      },
      "cell_type": "code",
      "source": [
        "!curl --upload-file Individual_assignment3_results.csv https://transfer.sh/my_results.csv"
      ],
      "execution_count": 78,
      "outputs": [
        {
          "output_type": "stream",
          "text": [
            "https://transfer.sh/k7CdI/my_results.csv"
          ],
          "name": "stdout"
        }
      ]
    },
    {
      "metadata": {
        "id": "7cZustqFmwUz",
        "colab_type": "code",
        "colab": {}
      },
      "cell_type": "code",
      "source": [
        ""
      ],
      "execution_count": 0,
      "outputs": []
    }
  ]
}